{
 "cells": [
  {
   "cell_type": "markdown",
   "metadata": {},
   "source": [
    "¡Hola Sebastian! Como te va?\n",
    "\n",
    "Mi nombre es Facundo Lozano! Un gusto conocerte, seré tu revisor en este proyecto.\n",
    "\n",
    "A continuación un poco sobre la modalidad de revisión que usaremos:\n",
    "\n",
    "Cuando enccuentro un error por primera vez, simplemente lo señalaré, te dejaré encontrarlo y arreglarlo tú cuenta. Además, a lo largo del texto iré haciendo algunas observaciones sobre mejora en tu código y también haré comentarios sobre tus percepciones sobre el tema. Pero si aún no puedes realizar esta tarea, te daré una pista más precisa en la próxima iteración y también algunos ejemplos prácticos. Estaré abierto a comentarios y discusiones sobre el tema.\n",
    "\n",
    "Encontrará mis comentarios a continuación: **no los mueva, modifique ni elimine**.\n",
    "\n",
    "Puedes encontrar mis comentarios en cuadros verdes, amarillos o rojos como este:\n",
    "\n",
    "<div class=\"alert alert-block alert-success\">\n",
    "<b>Comentario del revisor.</b> <a class=\"tocSkip\"></a>\n",
    "\n",
    "Exito. Todo se ha hecho de forma exitosa.\n",
    "</div>\n",
    "\n",
    "<div class=\"alert alert-block alert-warning\">\n",
    "<b>Comentario del revisor.</b> <a class=\"tocSkip\"></a>\n",
    "\n",
    "Observación. Algunas recomendaciones.\n",
    "</div>\n",
    "\n",
    "<div class=\"alert alert-block alert-danger\">\n",
    "\n",
    "<b>Comentario del revisor.</b> <a class=\"tocSkip\"></a>\n",
    "\n",
    "Necesita arreglos. Este apartado necesita algunas correcciones. El trabajo no puede ser aceptado con comentarios rojos. \n",
    "</div>\n",
    "\n",
    "Puedes responder utilizando esto:\n",
    "\n",
    "<div class=\"alert alert-block alert-info\">\n",
    "<b>Respuesta de estudiante.</b> <a class=\"tocSkip\"></a>\n",
    "</div>"
   ]
  },
  {
   "cell_type": "markdown",
   "metadata": {},
   "source": [
    "# Modelo de Retención para Beta Bank - Aprendizaje supervisado ML"
   ]
  },
  {
   "cell_type": "markdown",
   "metadata": {},
   "source": [
    "<div class=\"alert alert-block alert-success\">\n",
    "<b>Review General. (Iteración 1) </b> <a class=\"tocSkip\"></a>\n",
    "\n",
    "Sebastián, siempre me tomo este tiempo al inicio de tu proyecto para comentarte mis apreciaciones generales de esta iteración de tu entrega.\n",
    "\n",
    "Me gusta comenzar dando la bienvenida al mundo de los datos a los estudiantes, te deseo lo mejor y espero que consigas lograr tus objetivos. Personalmente me gusta brindar el siguiente consejo, \"Está bien equivocarse, es normal y es lo mejor que te puede pasar. Aprendemos de los errores y eso te hará mejor programandor ya que podrás descubrir cosas a medida que avances y son estas cosas las que te darán esa experiencia para ser un gran Data Scientist\"\n",
    "    \n",
    "Ahora si yendo a esta notebook. Quería felicitarte Sebastián porque has logrado resolver todo el proyecto con creces, a la vez has tenido un gran manejo de las herramientas sobre el proceso, tu conclusión demuestra tu comprensión sobre el trabajo y tu gran orden ha hecho que sea sencillo seguir el proceso.\n",
    "\n",
    "Tu trabajo está en condiciones de ser aprobado, te felicito nuevamente! Éxitos en tu camino dentro del mundo de los datos!\n",
    "\n",
    "Saludos!"
   ]
  },
  {
   "cell_type": "markdown",
   "metadata": {},
   "source": [
    "### Descripción del proyecto"
   ]
  },
  {
   "cell_type": "markdown",
   "metadata": {},
   "source": [
    "\n",
    "Los clientes de Beta Bank se están yendo, cada mes, poco a poco. Los banqueros descubrieron que es más barato salvar a los clientes existentes que atraer nuevos.\n",
    "\n",
    "Necesitamos predecir si un cliente dejará el banco pronto. Tú tienes los datos sobre el comportamiento pasado de los clientes y la terminación de contratos con el banco.\n",
    "\n",
    "Crea un modelo con el máximo valor F1 posible. Para aprobar la revisión, necesitas un valor F1 de al menos 0.59. Verifica F1 para el conjunto de prueba. \n",
    "\n",
    "Además, debes medir la métrica AUC-ROC y compararla con el valor F1."
   ]
  },
  {
   "cell_type": "markdown",
   "metadata": {
    "toc": true
   },
   "source": [
    "<h1>Contenido:<span class=\"tocSkip\"></span></h1>\n",
    "<div class=\"toc\"><ul class=\"toc-item\"><li><span><a href=\"#Descripción-del-proyecto\" data-toc-modified-id=\"Descripción-del-proyecto-1\"><span class=\"toc-item-num\">1&nbsp;&nbsp;</span>Descripción del proyecto</a></span></li><li><span><a href=\"#Descarga-y-prepara-los-datos.--Explica-el-procedimiento.\" data-toc-modified-id=\"Descarga-y-prepara-los-datos.--Explica-el-procedimiento.-2\"><span class=\"toc-item-num\">2&nbsp;&nbsp;</span>Descarga y prepara los datos.  Explica el procedimiento.</a></span><ul class=\"toc-item\"><li><span><a href=\"#Eliminar-columnas-que-no-son-últiles-para-el-modelo\" data-toc-modified-id=\"Eliminar-columnas-que-no-son-últiles-para-el-modelo-2.1\"><span class=\"toc-item-num\">2.1&nbsp;&nbsp;</span>Eliminar columnas que no son últiles para el modelo</a></span></li><li><span><a href=\"#Valores-ausentes-y-duplicados\" data-toc-modified-id=\"Valores-ausentes-y-duplicados-2.2\"><span class=\"toc-item-num\">2.2&nbsp;&nbsp;</span>Valores ausentes y duplicados</a></span></li><li><span><a href=\"#Codificación-y-estandarización-de-datos\" data-toc-modified-id=\"Codificación-y-estandarización-de-datos-2.3\"><span class=\"toc-item-num\">2.3&nbsp;&nbsp;</span>Codificación y estandarización de datos</a></span></li><li><span><a href=\"#Segmentación-de-datos\" data-toc-modified-id=\"Segmentación-de-datos-2.4\"><span class=\"toc-item-num\">2.4&nbsp;&nbsp;</span>Segmentación de datos</a></span></li><li><span><a href=\"#Escalado-de-características\" data-toc-modified-id=\"Escalado-de-características-2.5\"><span class=\"toc-item-num\">2.5&nbsp;&nbsp;</span>Escalado de características</a></span></li></ul></li><li><span><a href=\"#Examina-el-equilibrio-de-clases.-Entrena-el-modelo-sin-tener-en-cuenta-el-desequilibrio.-Describe-brevemente-tus-hallazgos.\" data-toc-modified-id=\"Examina-el-equilibrio-de-clases.-Entrena-el-modelo-sin-tener-en-cuenta-el-desequilibrio.-Describe-brevemente-tus-hallazgos.-3\"><span class=\"toc-item-num\">3&nbsp;&nbsp;</span>Examina el equilibrio de clases. Entrena el modelo sin tener en cuenta el desequilibrio. Describe brevemente tus hallazgos.</a></span><ul class=\"toc-item\"><li><span><a href=\"#Entrenar-el-modelo-sin-tener-en-cuenta-el-desequilibrio.\" data-toc-modified-id=\"Entrenar-el-modelo-sin-tener-en-cuenta-el-desequilibrio.-3.1\"><span class=\"toc-item-num\">3.1&nbsp;&nbsp;</span>Entrenar el modelo sin tener en cuenta el desequilibrio.</a></span></li><li><span><a href=\"#Árbol-de-decisión\" data-toc-modified-id=\"Árbol-de-decisión-3.2\"><span class=\"toc-item-num\">3.2&nbsp;&nbsp;</span>Árbol de decisión</a></span></li><li><span><a href=\"#Bosque-Aleatorio\" data-toc-modified-id=\"Bosque-Aleatorio-3.3\"><span class=\"toc-item-num\">3.3&nbsp;&nbsp;</span>Bosque Aleatorio</a></span></li><li><span><a href=\"#Regresión-logística\" data-toc-modified-id=\"Regresión-logística-3.4\"><span class=\"toc-item-num\">3.4&nbsp;&nbsp;</span>Regresión logística</a></span></li></ul></li><li><span><a href=\"#Mejora-la-calidad-del-modelo.\" data-toc-modified-id=\"Mejora-la-calidad-del-modelo.-4\"><span class=\"toc-item-num\">4&nbsp;&nbsp;</span>Mejora la calidad del modelo.</a></span><ul class=\"toc-item\"><li><span><a href=\"#Ajuste-peso-de-clase\" data-toc-modified-id=\"Ajuste-peso-de-clase-4.1\"><span class=\"toc-item-num\">4.1&nbsp;&nbsp;</span>Ajuste peso de clase</a></span></li><li><span><a href=\"#Sobremuestreo\" data-toc-modified-id=\"Sobremuestreo-4.2\"><span class=\"toc-item-num\">4.2&nbsp;&nbsp;</span>Sobremuestreo</a></span></li><li><span><a href=\"#Submuestreo\" data-toc-modified-id=\"Submuestreo-4.3\"><span class=\"toc-item-num\">4.3&nbsp;&nbsp;</span>Submuestreo</a></span></li></ul></li><li><span><a href=\"#Realiza-la-prueba-final\" data-toc-modified-id=\"Realiza-la-prueba-final-5\"><span class=\"toc-item-num\">5&nbsp;&nbsp;</span>Realiza la prueba final</a></span></li><li><span><a href=\"#Conclusiones-del-proyecto\" data-toc-modified-id=\"Conclusiones-del-proyecto-6\"><span class=\"toc-item-num\">6&nbsp;&nbsp;</span>Conclusiones del proyecto</a></span></li></ul></div>"
   ]
  },
  {
   "cell_type": "code",
   "execution_count": 1,
   "metadata": {},
   "outputs": [],
   "source": [
    "import pandas as pd\n",
    "import matplotlib.pyplot as plt\n",
    "import seaborn as sb\n",
    "\n",
    "#importo preprocesamiento de Sklearn\n",
    "from sklearn.model_selection import train_test_split\n",
    "from sklearn.preprocessing import OrdinalEncoder\n",
    "from sklearn.preprocessing import StandardScaler\n",
    "from sklearn.utils import shuffle\n",
    "\n",
    "#importo modelos a probar de sklearn\n",
    "from sklearn.tree import DecisionTreeClassifier\n",
    "from sklearn.linear_model import LogisticRegression\n",
    "from sklearn.ensemble import RandomForestClassifier\n",
    "\n",
    "#importo métricas para evaluar los modelos\n",
    "from sklearn.metrics import accuracy_score\n",
    "from sklearn.metrics import f1_score\n",
    "from sklearn.metrics import roc_auc_score\n",
    "from sklearn.metrics import roc_curve\n",
    "from sklearn.metrics import confusion_matrix, ConfusionMatrixDisplay       \n",
    "from sklearn.metrics import classification_report \n"
   ]
  },
  {
   "cell_type": "markdown",
   "metadata": {},
   "source": [
    "### Descarga y prepara los datos.  Explica el procedimiento."
   ]
  },
  {
   "cell_type": "code",
   "execution_count": 2,
   "metadata": {},
   "outputs": [],
   "source": [
    "# importo los datos para el modelo de clasificación\n",
    "data = pd.read_csv('/datasets/Churn.csv')"
   ]
  },
  {
   "cell_type": "code",
   "execution_count": 3,
   "metadata": {
    "scrolled": true
   },
   "outputs": [
    {
     "data": {
      "text/html": [
       "<div>\n",
       "<style scoped>\n",
       "    .dataframe tbody tr th:only-of-type {\n",
       "        vertical-align: middle;\n",
       "    }\n",
       "\n",
       "    .dataframe tbody tr th {\n",
       "        vertical-align: top;\n",
       "    }\n",
       "\n",
       "    .dataframe thead th {\n",
       "        text-align: right;\n",
       "    }\n",
       "</style>\n",
       "<table border=\"1\" class=\"dataframe\">\n",
       "  <thead>\n",
       "    <tr style=\"text-align: right;\">\n",
       "      <th></th>\n",
       "      <th>rownumber</th>\n",
       "      <th>customerid</th>\n",
       "      <th>surname</th>\n",
       "      <th>creditscore</th>\n",
       "      <th>geography</th>\n",
       "      <th>gender</th>\n",
       "      <th>age</th>\n",
       "      <th>tenure</th>\n",
       "      <th>balance</th>\n",
       "      <th>numofproducts</th>\n",
       "      <th>hascrcard</th>\n",
       "      <th>isactivemember</th>\n",
       "      <th>estimatedsalary</th>\n",
       "      <th>exited</th>\n",
       "    </tr>\n",
       "  </thead>\n",
       "  <tbody>\n",
       "    <tr>\n",
       "      <th>0</th>\n",
       "      <td>1</td>\n",
       "      <td>15634602</td>\n",
       "      <td>Hargrave</td>\n",
       "      <td>619</td>\n",
       "      <td>France</td>\n",
       "      <td>Female</td>\n",
       "      <td>42</td>\n",
       "      <td>2.0</td>\n",
       "      <td>0.00</td>\n",
       "      <td>1</td>\n",
       "      <td>1</td>\n",
       "      <td>1</td>\n",
       "      <td>101348.88</td>\n",
       "      <td>1</td>\n",
       "    </tr>\n",
       "    <tr>\n",
       "      <th>1</th>\n",
       "      <td>2</td>\n",
       "      <td>15647311</td>\n",
       "      <td>Hill</td>\n",
       "      <td>608</td>\n",
       "      <td>Spain</td>\n",
       "      <td>Female</td>\n",
       "      <td>41</td>\n",
       "      <td>1.0</td>\n",
       "      <td>83807.86</td>\n",
       "      <td>1</td>\n",
       "      <td>0</td>\n",
       "      <td>1</td>\n",
       "      <td>112542.58</td>\n",
       "      <td>0</td>\n",
       "    </tr>\n",
       "    <tr>\n",
       "      <th>2</th>\n",
       "      <td>3</td>\n",
       "      <td>15619304</td>\n",
       "      <td>Onio</td>\n",
       "      <td>502</td>\n",
       "      <td>France</td>\n",
       "      <td>Female</td>\n",
       "      <td>42</td>\n",
       "      <td>8.0</td>\n",
       "      <td>159660.80</td>\n",
       "      <td>3</td>\n",
       "      <td>1</td>\n",
       "      <td>0</td>\n",
       "      <td>113931.57</td>\n",
       "      <td>1</td>\n",
       "    </tr>\n",
       "    <tr>\n",
       "      <th>3</th>\n",
       "      <td>4</td>\n",
       "      <td>15701354</td>\n",
       "      <td>Boni</td>\n",
       "      <td>699</td>\n",
       "      <td>France</td>\n",
       "      <td>Female</td>\n",
       "      <td>39</td>\n",
       "      <td>1.0</td>\n",
       "      <td>0.00</td>\n",
       "      <td>2</td>\n",
       "      <td>0</td>\n",
       "      <td>0</td>\n",
       "      <td>93826.63</td>\n",
       "      <td>0</td>\n",
       "    </tr>\n",
       "    <tr>\n",
       "      <th>4</th>\n",
       "      <td>5</td>\n",
       "      <td>15737888</td>\n",
       "      <td>Mitchell</td>\n",
       "      <td>850</td>\n",
       "      <td>Spain</td>\n",
       "      <td>Female</td>\n",
       "      <td>43</td>\n",
       "      <td>2.0</td>\n",
       "      <td>125510.82</td>\n",
       "      <td>1</td>\n",
       "      <td>1</td>\n",
       "      <td>1</td>\n",
       "      <td>79084.10</td>\n",
       "      <td>0</td>\n",
       "    </tr>\n",
       "  </tbody>\n",
       "</table>\n",
       "</div>"
      ],
      "text/plain": [
       "   rownumber  customerid   surname  creditscore geography  gender  age  \\\n",
       "0          1    15634602  Hargrave          619    France  Female   42   \n",
       "1          2    15647311      Hill          608     Spain  Female   41   \n",
       "2          3    15619304      Onio          502    France  Female   42   \n",
       "3          4    15701354      Boni          699    France  Female   39   \n",
       "4          5    15737888  Mitchell          850     Spain  Female   43   \n",
       "\n",
       "   tenure    balance  numofproducts  hascrcard  isactivemember  \\\n",
       "0     2.0       0.00              1          1               1   \n",
       "1     1.0   83807.86              1          0               1   \n",
       "2     8.0  159660.80              3          1               0   \n",
       "3     1.0       0.00              2          0               0   \n",
       "4     2.0  125510.82              1          1               1   \n",
       "\n",
       "   estimatedsalary  exited  \n",
       "0        101348.88       1  \n",
       "1        112542.58       0  \n",
       "2        113931.57       1  \n",
       "3         93826.63       0  \n",
       "4         79084.10       0  "
      ]
     },
     "execution_count": 3,
     "metadata": {},
     "output_type": "execute_result"
    }
   ],
   "source": [
    "#uso head para visualizar los datos\n",
    "data.columns = data.columns.str.lower()\n",
    "data.head(5)"
   ]
  },
  {
   "cell_type": "markdown",
   "metadata": {},
   "source": [
    "<div class=\"alert alert-block alert-success\">\n",
    "\n",
    "<b>Comentario del revisor. (Iteración 1)</b> <a class=\"tocSkip\"></a>\n",
    "\n",
    "Excelentes importaciones. Buena decisión al separar las importaciones de la carga de datos y excelentes implementaciones de normalización de las columnas!\n",
    "</div>"
   ]
  },
  {
   "cell_type": "markdown",
   "metadata": {},
   "source": [
    "**Observación:**\n",
    "\n",
    "Las columnas `rownumber`, `customerid` y `surname` no son características útiles para el modelo de clasificación, se eliminarán para evitar que afecten la calidad del modelo."
   ]
  },
  {
   "cell_type": "markdown",
   "metadata": {},
   "source": [
    "#### Eliminar columnas que no son últiles para el modelo"
   ]
  },
  {
   "cell_type": "code",
   "execution_count": 4,
   "metadata": {},
   "outputs": [
    {
     "data": {
      "text/html": [
       "<div>\n",
       "<style scoped>\n",
       "    .dataframe tbody tr th:only-of-type {\n",
       "        vertical-align: middle;\n",
       "    }\n",
       "\n",
       "    .dataframe tbody tr th {\n",
       "        vertical-align: top;\n",
       "    }\n",
       "\n",
       "    .dataframe thead th {\n",
       "        text-align: right;\n",
       "    }\n",
       "</style>\n",
       "<table border=\"1\" class=\"dataframe\">\n",
       "  <thead>\n",
       "    <tr style=\"text-align: right;\">\n",
       "      <th></th>\n",
       "      <th>creditscore</th>\n",
       "      <th>geography</th>\n",
       "      <th>gender</th>\n",
       "      <th>age</th>\n",
       "      <th>tenure</th>\n",
       "      <th>balance</th>\n",
       "      <th>numofproducts</th>\n",
       "      <th>hascrcard</th>\n",
       "      <th>isactivemember</th>\n",
       "      <th>estimatedsalary</th>\n",
       "      <th>exited</th>\n",
       "    </tr>\n",
       "  </thead>\n",
       "  <tbody>\n",
       "    <tr>\n",
       "      <th>0</th>\n",
       "      <td>619</td>\n",
       "      <td>France</td>\n",
       "      <td>Female</td>\n",
       "      <td>42</td>\n",
       "      <td>2.0</td>\n",
       "      <td>0.00</td>\n",
       "      <td>1</td>\n",
       "      <td>1</td>\n",
       "      <td>1</td>\n",
       "      <td>101348.88</td>\n",
       "      <td>1</td>\n",
       "    </tr>\n",
       "    <tr>\n",
       "      <th>1</th>\n",
       "      <td>608</td>\n",
       "      <td>Spain</td>\n",
       "      <td>Female</td>\n",
       "      <td>41</td>\n",
       "      <td>1.0</td>\n",
       "      <td>83807.86</td>\n",
       "      <td>1</td>\n",
       "      <td>0</td>\n",
       "      <td>1</td>\n",
       "      <td>112542.58</td>\n",
       "      <td>0</td>\n",
       "    </tr>\n",
       "    <tr>\n",
       "      <th>2</th>\n",
       "      <td>502</td>\n",
       "      <td>France</td>\n",
       "      <td>Female</td>\n",
       "      <td>42</td>\n",
       "      <td>8.0</td>\n",
       "      <td>159660.80</td>\n",
       "      <td>3</td>\n",
       "      <td>1</td>\n",
       "      <td>0</td>\n",
       "      <td>113931.57</td>\n",
       "      <td>1</td>\n",
       "    </tr>\n",
       "    <tr>\n",
       "      <th>3</th>\n",
       "      <td>699</td>\n",
       "      <td>France</td>\n",
       "      <td>Female</td>\n",
       "      <td>39</td>\n",
       "      <td>1.0</td>\n",
       "      <td>0.00</td>\n",
       "      <td>2</td>\n",
       "      <td>0</td>\n",
       "      <td>0</td>\n",
       "      <td>93826.63</td>\n",
       "      <td>0</td>\n",
       "    </tr>\n",
       "    <tr>\n",
       "      <th>4</th>\n",
       "      <td>850</td>\n",
       "      <td>Spain</td>\n",
       "      <td>Female</td>\n",
       "      <td>43</td>\n",
       "      <td>2.0</td>\n",
       "      <td>125510.82</td>\n",
       "      <td>1</td>\n",
       "      <td>1</td>\n",
       "      <td>1</td>\n",
       "      <td>79084.10</td>\n",
       "      <td>0</td>\n",
       "    </tr>\n",
       "  </tbody>\n",
       "</table>\n",
       "</div>"
      ],
      "text/plain": [
       "   creditscore geography  gender  age  tenure    balance  numofproducts  \\\n",
       "0          619    France  Female   42     2.0       0.00              1   \n",
       "1          608     Spain  Female   41     1.0   83807.86              1   \n",
       "2          502    France  Female   42     8.0  159660.80              3   \n",
       "3          699    France  Female   39     1.0       0.00              2   \n",
       "4          850     Spain  Female   43     2.0  125510.82              1   \n",
       "\n",
       "   hascrcard  isactivemember  estimatedsalary  exited  \n",
       "0          1               1        101348.88       1  \n",
       "1          0               1        112542.58       0  \n",
       "2          1               0        113931.57       1  \n",
       "3          0               0         93826.63       0  \n",
       "4          1               1         79084.10       0  "
      ]
     },
     "execution_count": 4,
     "metadata": {},
     "output_type": "execute_result"
    }
   ],
   "source": [
    "#eliminar características que no son útiles\n",
    "data = data.drop(['rownumber','customerid','surname'], axis =1)\n",
    "data.head()"
   ]
  },
  {
   "cell_type": "markdown",
   "metadata": {},
   "source": [
    "<div class=\"alert alert-block alert-success\">\n",
    "\n",
    "<b>Comentario del revisor. (Iteración 1)</b> <a class=\"tocSkip\"></a>\n",
    "\n",
    "Excelente eliminación de variables que no aportan información, bien hecho!</div>"
   ]
  },
  {
   "cell_type": "code",
   "execution_count": 5,
   "metadata": {},
   "outputs": [
    {
     "name": "stdout",
     "output_type": "stream",
     "text": [
      "<class 'pandas.core.frame.DataFrame'>\n",
      "RangeIndex: 10000 entries, 0 to 9999\n",
      "Data columns (total 11 columns):\n",
      " #   Column           Non-Null Count  Dtype  \n",
      "---  ------           --------------  -----  \n",
      " 0   creditscore      10000 non-null  int64  \n",
      " 1   geography        10000 non-null  object \n",
      " 2   gender           10000 non-null  object \n",
      " 3   age              10000 non-null  int64  \n",
      " 4   tenure           9091 non-null   float64\n",
      " 5   balance          10000 non-null  float64\n",
      " 6   numofproducts    10000 non-null  int64  \n",
      " 7   hascrcard        10000 non-null  int64  \n",
      " 8   isactivemember   10000 non-null  int64  \n",
      " 9   estimatedsalary  10000 non-null  float64\n",
      " 10  exited           10000 non-null  int64  \n",
      "dtypes: float64(3), int64(6), object(2)\n",
      "memory usage: 859.5+ KB\n"
     ]
    }
   ],
   "source": [
    "# revisar los tipos de datos de las columnas\n",
    "data.info()"
   ]
  },
  {
   "cell_type": "markdown",
   "metadata": {},
   "source": [
    "\n",
    "**Observación tipos de datos:**\n",
    "- `Tenure` tiene datos ausentes los cuales se analizarán a continuación\n",
    "- `Tenure` tiene tipos de datos float, viendo los datos podemos notar que estos podemos convertirlos a tipo int\n"
   ]
  },
  {
   "cell_type": "markdown",
   "metadata": {},
   "source": [
    "<div class=\"alert alert-block alert-success\">\n",
    "\n",
    "<b>Comentario del revisor. (Iteración 1)</b> <a class=\"tocSkip\"></a>\n",
    "\n",
    "Bien hecho Sebastián! Tal como se debía aplicamos un método para observar la composición de nuestros datos y pudimos incluso encontrar información relevante sobre la columna **ternure**</div>"
   ]
  },
  {
   "cell_type": "markdown",
   "metadata": {},
   "source": [
    "#### Valores ausentes y duplicados"
   ]
  },
  {
   "cell_type": "code",
   "execution_count": 6,
   "metadata": {
    "scrolled": true
   },
   "outputs": [
    {
     "data": {
      "text/plain": [
       "creditscore          0\n",
       "geography            0\n",
       "gender               0\n",
       "age                  0\n",
       "tenure             909\n",
       "balance              0\n",
       "numofproducts        0\n",
       "hascrcard            0\n",
       "isactivemember       0\n",
       "estimatedsalary      0\n",
       "exited               0\n",
       "dtype: int64"
      ]
     },
     "execution_count": 6,
     "metadata": {},
     "output_type": "execute_result"
    }
   ],
   "source": [
    "data.isna().sum()"
   ]
  },
  {
   "cell_type": "code",
   "execution_count": 7,
   "metadata": {},
   "outputs": [
    {
     "name": "stdout",
     "output_type": "stream",
     "text": [
      "Promedio: 4.997690023099769\n",
      "Mediana: 5.0\n"
     ]
    }
   ],
   "source": [
    "# Analizar opciones para usar en .fillna\n",
    "\n",
    "print('Promedio:',data['tenure'].mean())\n",
    "print('Mediana:',data['tenure'].median())\n"
   ]
  },
  {
   "cell_type": "code",
   "execution_count": 8,
   "metadata": {},
   "outputs": [
    {
     "data": {
      "text/plain": [
       "creditscore        0\n",
       "geography          0\n",
       "gender             0\n",
       "age                0\n",
       "tenure             0\n",
       "balance            0\n",
       "numofproducts      0\n",
       "hascrcard          0\n",
       "isactivemember     0\n",
       "estimatedsalary    0\n",
       "exited             0\n",
       "dtype: int64"
      ]
     },
     "execution_count": 8,
     "metadata": {},
     "output_type": "execute_result"
    }
   ],
   "source": [
    "#usare de filna y la mediana en tenure para completar los datos faltantes\n",
    "\n",
    "data['tenure'] = data['tenure'].fillna(data['tenure'].median())\n",
    "data['tenure'] = data['tenure'].astype(int)\n",
    "data.isna().sum()"
   ]
  },
  {
   "cell_type": "markdown",
   "metadata": {},
   "source": [
    "<div class=\"alert alert-block alert-success\">\n",
    "\n",
    "<b>Comentario del revisor. (Iteración 1)</b> <a class=\"tocSkip\"></a>\n",
    "\n",
    "Muy buen trabajo sobre la feature **Ternure**, un buen procedimiento de completar valores nulos.</div>"
   ]
  },
  {
   "cell_type": "markdown",
   "metadata": {},
   "source": [
    "**Observación:**\n",
    "- Los datos ausentes en `Tenure` representaban el 9.9% de la muestra, se completaron con el uso de la mediana = 5 años.\n",
    "\n",
    "- Se convirtió la columna `Tenure` a datos int y se comprobó que ya no existen más valores ausentes.\n"
   ]
  },
  {
   "cell_type": "markdown",
   "metadata": {},
   "source": [
    "**Valores duplicados**"
   ]
  },
  {
   "cell_type": "code",
   "execution_count": 9,
   "metadata": {},
   "outputs": [
    {
     "data": {
      "text/plain": [
       "0"
      ]
     },
     "execution_count": 9,
     "metadata": {},
     "output_type": "execute_result"
    }
   ],
   "source": [
    "data.duplicated().sum()"
   ]
  },
  {
   "cell_type": "markdown",
   "metadata": {},
   "source": [
    "**Observación:**\n",
    "No hay valores duplicados para la tabla"
   ]
  },
  {
   "cell_type": "markdown",
   "metadata": {},
   "source": [
    "#### Codificación y estandarización de datos"
   ]
  },
  {
   "cell_type": "code",
   "execution_count": 10,
   "metadata": {
    "scrolled": false
   },
   "outputs": [
    {
     "data": {
      "text/html": [
       "<div>\n",
       "<style scoped>\n",
       "    .dataframe tbody tr th:only-of-type {\n",
       "        vertical-align: middle;\n",
       "    }\n",
       "\n",
       "    .dataframe tbody tr th {\n",
       "        vertical-align: top;\n",
       "    }\n",
       "\n",
       "    .dataframe thead th {\n",
       "        text-align: right;\n",
       "    }\n",
       "</style>\n",
       "<table border=\"1\" class=\"dataframe\">\n",
       "  <thead>\n",
       "    <tr style=\"text-align: right;\">\n",
       "      <th></th>\n",
       "      <th>creditscore</th>\n",
       "      <th>geography</th>\n",
       "      <th>gender</th>\n",
       "      <th>age</th>\n",
       "      <th>tenure</th>\n",
       "      <th>balance</th>\n",
       "      <th>numofproducts</th>\n",
       "      <th>hascrcard</th>\n",
       "      <th>isactivemember</th>\n",
       "      <th>estimatedsalary</th>\n",
       "      <th>exited</th>\n",
       "    </tr>\n",
       "  </thead>\n",
       "  <tbody>\n",
       "    <tr>\n",
       "      <th>0</th>\n",
       "      <td>619</td>\n",
       "      <td>France</td>\n",
       "      <td>0</td>\n",
       "      <td>42</td>\n",
       "      <td>2</td>\n",
       "      <td>0.00</td>\n",
       "      <td>1</td>\n",
       "      <td>1</td>\n",
       "      <td>1</td>\n",
       "      <td>101348.88</td>\n",
       "      <td>1</td>\n",
       "    </tr>\n",
       "    <tr>\n",
       "      <th>1</th>\n",
       "      <td>608</td>\n",
       "      <td>Spain</td>\n",
       "      <td>0</td>\n",
       "      <td>41</td>\n",
       "      <td>1</td>\n",
       "      <td>83807.86</td>\n",
       "      <td>1</td>\n",
       "      <td>0</td>\n",
       "      <td>1</td>\n",
       "      <td>112542.58</td>\n",
       "      <td>0</td>\n",
       "    </tr>\n",
       "    <tr>\n",
       "      <th>2</th>\n",
       "      <td>502</td>\n",
       "      <td>France</td>\n",
       "      <td>0</td>\n",
       "      <td>42</td>\n",
       "      <td>8</td>\n",
       "      <td>159660.80</td>\n",
       "      <td>3</td>\n",
       "      <td>1</td>\n",
       "      <td>0</td>\n",
       "      <td>113931.57</td>\n",
       "      <td>1</td>\n",
       "    </tr>\n",
       "    <tr>\n",
       "      <th>3</th>\n",
       "      <td>699</td>\n",
       "      <td>France</td>\n",
       "      <td>0</td>\n",
       "      <td>39</td>\n",
       "      <td>1</td>\n",
       "      <td>0.00</td>\n",
       "      <td>2</td>\n",
       "      <td>0</td>\n",
       "      <td>0</td>\n",
       "      <td>93826.63</td>\n",
       "      <td>0</td>\n",
       "    </tr>\n",
       "    <tr>\n",
       "      <th>4</th>\n",
       "      <td>850</td>\n",
       "      <td>Spain</td>\n",
       "      <td>0</td>\n",
       "      <td>43</td>\n",
       "      <td>2</td>\n",
       "      <td>125510.82</td>\n",
       "      <td>1</td>\n",
       "      <td>1</td>\n",
       "      <td>1</td>\n",
       "      <td>79084.10</td>\n",
       "      <td>0</td>\n",
       "    </tr>\n",
       "    <tr>\n",
       "      <th>5</th>\n",
       "      <td>645</td>\n",
       "      <td>Spain</td>\n",
       "      <td>1</td>\n",
       "      <td>44</td>\n",
       "      <td>8</td>\n",
       "      <td>113755.78</td>\n",
       "      <td>2</td>\n",
       "      <td>1</td>\n",
       "      <td>0</td>\n",
       "      <td>149756.71</td>\n",
       "      <td>1</td>\n",
       "    </tr>\n",
       "  </tbody>\n",
       "</table>\n",
       "</div>"
      ],
      "text/plain": [
       "   creditscore geography  gender  age  tenure    balance  numofproducts  \\\n",
       "0          619    France       0   42       2       0.00              1   \n",
       "1          608     Spain       0   41       1   83807.86              1   \n",
       "2          502    France       0   42       8  159660.80              3   \n",
       "3          699    France       0   39       1       0.00              2   \n",
       "4          850     Spain       0   43       2  125510.82              1   \n",
       "5          645     Spain       1   44       8  113755.78              2   \n",
       "\n",
       "   hascrcard  isactivemember  estimatedsalary  exited  \n",
       "0          1               1        101348.88       1  \n",
       "1          0               1        112542.58       0  \n",
       "2          1               0        113931.57       1  \n",
       "3          0               0         93826.63       0  \n",
       "4          1               1         79084.10       0  \n",
       "5          1               0        149756.71       1  "
      ]
     },
     "execution_count": 10,
     "metadata": {},
     "output_type": "execute_result"
    }
   ],
   "source": [
    "# uso get_dummies en gender para realizar codificación one-hot, uso drop_first = True\n",
    "# 0 para mujer\n",
    "# 1 para hombre\n",
    "\n",
    "data['gender'] = pd.get_dummies(data['gender'] , drop_first=True)\n",
    "data.head(6)"
   ]
  },
  {
   "cell_type": "code",
   "execution_count": 11,
   "metadata": {},
   "outputs": [
    {
     "data": {
      "text/plain": [
       "France     5014\n",
       "Germany    2509\n",
       "Spain      2477\n",
       "Name: geography, dtype: int64"
      ]
     },
     "execution_count": 11,
     "metadata": {},
     "output_type": "execute_result"
    }
   ],
   "source": [
    "# para geography necesitamos otro tipo de codificación, usaremos codificación de etiquetas\n",
    "data['geography'].value_counts()"
   ]
  },
  {
   "cell_type": "code",
   "execution_count": 12,
   "metadata": {},
   "outputs": [
    {
     "data": {
      "text/plain": [
       "0.0    5014\n",
       "1.0    2509\n",
       "2.0    2477\n",
       "Name: geography, dtype: int64"
      ]
     },
     "execution_count": 12,
     "metadata": {},
     "output_type": "execute_result"
    }
   ],
   "source": [
    "# uso ordinal encoder para realizar la estandarización de geography con OrdinalEncoder\n",
    "# 0 es Francia\n",
    "# 1 es Alemania\n",
    "# 2 es España\n",
    "\n",
    "data['geography'] = OrdinalEncoder().fit_transform(data[['geography']])\n",
    "data['geography'].value_counts()"
   ]
  },
  {
   "cell_type": "markdown",
   "metadata": {},
   "source": [
    "<div class=\"alert alert-block alert-success\">\n",
    "\n",
    "<b>Comentario del revisor. (Iteración 1)</b> <a class=\"tocSkip\"></a>\n",
    "\n",
    "Excelente decisión de pasar nuestras columnas categóricas a numéricas. Bien hecho! Sigamos\n",
    "    "
   ]
  },
  {
   "cell_type": "markdown",
   "metadata": {},
   "source": [
    "**Observaciones Codificación y estandarización de datos:** \n",
    "- Se usó codificación one-hot para transformar la columna `genre` en 0 = mujer y 1 = hombre\n",
    "- Se usó codificación de etiquetas en `geography` para convertir los países en 0 = Francia, 1 = Alemania y 2 = España"
   ]
  },
  {
   "cell_type": "code",
   "execution_count": 13,
   "metadata": {},
   "outputs": [
    {
     "data": {
      "text/html": [
       "<div>\n",
       "<style scoped>\n",
       "    .dataframe tbody tr th:only-of-type {\n",
       "        vertical-align: middle;\n",
       "    }\n",
       "\n",
       "    .dataframe tbody tr th {\n",
       "        vertical-align: top;\n",
       "    }\n",
       "\n",
       "    .dataframe thead th {\n",
       "        text-align: right;\n",
       "    }\n",
       "</style>\n",
       "<table border=\"1\" class=\"dataframe\">\n",
       "  <thead>\n",
       "    <tr style=\"text-align: right;\">\n",
       "      <th></th>\n",
       "      <th>creditscore</th>\n",
       "      <th>geography</th>\n",
       "      <th>gender</th>\n",
       "      <th>age</th>\n",
       "      <th>tenure</th>\n",
       "      <th>balance</th>\n",
       "      <th>numofproducts</th>\n",
       "      <th>hascrcard</th>\n",
       "      <th>isactivemember</th>\n",
       "      <th>estimatedsalary</th>\n",
       "      <th>exited</th>\n",
       "    </tr>\n",
       "  </thead>\n",
       "  <tbody>\n",
       "    <tr>\n",
       "      <th>count</th>\n",
       "      <td>10000.000000</td>\n",
       "      <td>10000.000000</td>\n",
       "      <td>10000.000000</td>\n",
       "      <td>10000.000000</td>\n",
       "      <td>10000.00000</td>\n",
       "      <td>10000.000000</td>\n",
       "      <td>10000.000000</td>\n",
       "      <td>10000.00000</td>\n",
       "      <td>10000.000000</td>\n",
       "      <td>10000.000000</td>\n",
       "      <td>10000.000000</td>\n",
       "    </tr>\n",
       "    <tr>\n",
       "      <th>mean</th>\n",
       "      <td>650.528800</td>\n",
       "      <td>0.746300</td>\n",
       "      <td>0.545700</td>\n",
       "      <td>38.921800</td>\n",
       "      <td>4.99790</td>\n",
       "      <td>76485.889288</td>\n",
       "      <td>1.530200</td>\n",
       "      <td>0.70550</td>\n",
       "      <td>0.515100</td>\n",
       "      <td>100090.239881</td>\n",
       "      <td>0.203700</td>\n",
       "    </tr>\n",
       "    <tr>\n",
       "      <th>std</th>\n",
       "      <td>96.653299</td>\n",
       "      <td>0.827529</td>\n",
       "      <td>0.497932</td>\n",
       "      <td>10.487806</td>\n",
       "      <td>2.76001</td>\n",
       "      <td>62397.405202</td>\n",
       "      <td>0.581654</td>\n",
       "      <td>0.45584</td>\n",
       "      <td>0.499797</td>\n",
       "      <td>57510.492818</td>\n",
       "      <td>0.402769</td>\n",
       "    </tr>\n",
       "    <tr>\n",
       "      <th>min</th>\n",
       "      <td>350.000000</td>\n",
       "      <td>0.000000</td>\n",
       "      <td>0.000000</td>\n",
       "      <td>18.000000</td>\n",
       "      <td>0.00000</td>\n",
       "      <td>0.000000</td>\n",
       "      <td>1.000000</td>\n",
       "      <td>0.00000</td>\n",
       "      <td>0.000000</td>\n",
       "      <td>11.580000</td>\n",
       "      <td>0.000000</td>\n",
       "    </tr>\n",
       "    <tr>\n",
       "      <th>25%</th>\n",
       "      <td>584.000000</td>\n",
       "      <td>0.000000</td>\n",
       "      <td>0.000000</td>\n",
       "      <td>32.000000</td>\n",
       "      <td>3.00000</td>\n",
       "      <td>0.000000</td>\n",
       "      <td>1.000000</td>\n",
       "      <td>0.00000</td>\n",
       "      <td>0.000000</td>\n",
       "      <td>51002.110000</td>\n",
       "      <td>0.000000</td>\n",
       "    </tr>\n",
       "    <tr>\n",
       "      <th>50%</th>\n",
       "      <td>652.000000</td>\n",
       "      <td>0.000000</td>\n",
       "      <td>1.000000</td>\n",
       "      <td>37.000000</td>\n",
       "      <td>5.00000</td>\n",
       "      <td>97198.540000</td>\n",
       "      <td>1.000000</td>\n",
       "      <td>1.00000</td>\n",
       "      <td>1.000000</td>\n",
       "      <td>100193.915000</td>\n",
       "      <td>0.000000</td>\n",
       "    </tr>\n",
       "    <tr>\n",
       "      <th>75%</th>\n",
       "      <td>718.000000</td>\n",
       "      <td>1.000000</td>\n",
       "      <td>1.000000</td>\n",
       "      <td>44.000000</td>\n",
       "      <td>7.00000</td>\n",
       "      <td>127644.240000</td>\n",
       "      <td>2.000000</td>\n",
       "      <td>1.00000</td>\n",
       "      <td>1.000000</td>\n",
       "      <td>149388.247500</td>\n",
       "      <td>0.000000</td>\n",
       "    </tr>\n",
       "    <tr>\n",
       "      <th>max</th>\n",
       "      <td>850.000000</td>\n",
       "      <td>2.000000</td>\n",
       "      <td>1.000000</td>\n",
       "      <td>92.000000</td>\n",
       "      <td>10.00000</td>\n",
       "      <td>250898.090000</td>\n",
       "      <td>4.000000</td>\n",
       "      <td>1.00000</td>\n",
       "      <td>1.000000</td>\n",
       "      <td>199992.480000</td>\n",
       "      <td>1.000000</td>\n",
       "    </tr>\n",
       "  </tbody>\n",
       "</table>\n",
       "</div>"
      ],
      "text/plain": [
       "        creditscore     geography        gender           age       tenure  \\\n",
       "count  10000.000000  10000.000000  10000.000000  10000.000000  10000.00000   \n",
       "mean     650.528800      0.746300      0.545700     38.921800      4.99790   \n",
       "std       96.653299      0.827529      0.497932     10.487806      2.76001   \n",
       "min      350.000000      0.000000      0.000000     18.000000      0.00000   \n",
       "25%      584.000000      0.000000      0.000000     32.000000      3.00000   \n",
       "50%      652.000000      0.000000      1.000000     37.000000      5.00000   \n",
       "75%      718.000000      1.000000      1.000000     44.000000      7.00000   \n",
       "max      850.000000      2.000000      1.000000     92.000000     10.00000   \n",
       "\n",
       "             balance  numofproducts    hascrcard  isactivemember  \\\n",
       "count   10000.000000   10000.000000  10000.00000    10000.000000   \n",
       "mean    76485.889288       1.530200      0.70550        0.515100   \n",
       "std     62397.405202       0.581654      0.45584        0.499797   \n",
       "min         0.000000       1.000000      0.00000        0.000000   \n",
       "25%         0.000000       1.000000      0.00000        0.000000   \n",
       "50%     97198.540000       1.000000      1.00000        1.000000   \n",
       "75%    127644.240000       2.000000      1.00000        1.000000   \n",
       "max    250898.090000       4.000000      1.00000        1.000000   \n",
       "\n",
       "       estimatedsalary        exited  \n",
       "count     10000.000000  10000.000000  \n",
       "mean     100090.239881      0.203700  \n",
       "std       57510.492818      0.402769  \n",
       "min          11.580000      0.000000  \n",
       "25%       51002.110000      0.000000  \n",
       "50%      100193.915000      0.000000  \n",
       "75%      149388.247500      0.000000  \n",
       "max      199992.480000      1.000000  "
      ]
     },
     "execution_count": 13,
     "metadata": {},
     "output_type": "execute_result"
    }
   ],
   "source": [
    "data.describe()"
   ]
  },
  {
   "cell_type": "markdown",
   "metadata": {},
   "source": [
    "**Observacion General:**\n",
    "\n",
    "La tabla contiene 11 columnas: `tenure`,`balance`, `numofproducts`, `hascrcard` y `isactivemember` nos permiten analizar el comportamiento pasado de los usuarios del banco como su antigüedad, saldo y cuantos productos tiene. Adicional a esto las columnas `creditscore`, `age`, `geography` y `gender`nos brinda información demográfica de los usuarios que permite analizar el comportamiento desde segmentos de edad, geográfica y comportamiento crediticio. Estas son las características a usar en el modelo.\n",
    "\n",
    "Por último `exited` nos permite conocer si el usuario ha abandonado el banco, el cual será nuestro objetivo de clasificación.\n",
    "\n",
    "- la tabla contiene 10000 usuarios.\n",
    "- el promedio de edad es 39 años.\n",
    "- el promedio de antigüedad en una cuenta es de 5 años.\n",
    "- en promedio los usuarios tienen más de un producto (1.5) con el banco.\n",
    "- la mayor cantidad de clientes están ubicados en Francia.\n"
   ]
  },
  {
   "cell_type": "markdown",
   "metadata": {},
   "source": [
    "#### Segmentación de datos"
   ]
  },
  {
   "cell_type": "code",
   "execution_count": 14,
   "metadata": {},
   "outputs": [],
   "source": [
    "# uso drop para eliminar la columna objetivo de las características\n",
    "# defino el objetivo como la columna exited\n",
    "\n",
    "features = data.drop(['exited'], axis = 1)\n",
    "target = data['exited']"
   ]
  },
  {
   "cell_type": "code",
   "execution_count": 15,
   "metadata": {},
   "outputs": [
    {
     "data": {
      "text/html": [
       "<div>\n",
       "<style scoped>\n",
       "    .dataframe tbody tr th:only-of-type {\n",
       "        vertical-align: middle;\n",
       "    }\n",
       "\n",
       "    .dataframe tbody tr th {\n",
       "        vertical-align: top;\n",
       "    }\n",
       "\n",
       "    .dataframe thead th {\n",
       "        text-align: right;\n",
       "    }\n",
       "</style>\n",
       "<table border=\"1\" class=\"dataframe\">\n",
       "  <thead>\n",
       "    <tr style=\"text-align: right;\">\n",
       "      <th></th>\n",
       "      <th>creditscore</th>\n",
       "      <th>geography</th>\n",
       "      <th>gender</th>\n",
       "      <th>age</th>\n",
       "      <th>tenure</th>\n",
       "      <th>balance</th>\n",
       "      <th>numofproducts</th>\n",
       "      <th>hascrcard</th>\n",
       "      <th>isactivemember</th>\n",
       "      <th>estimatedsalary</th>\n",
       "    </tr>\n",
       "  </thead>\n",
       "  <tbody>\n",
       "    <tr>\n",
       "      <th>0</th>\n",
       "      <td>619</td>\n",
       "      <td>0.0</td>\n",
       "      <td>0</td>\n",
       "      <td>42</td>\n",
       "      <td>2</td>\n",
       "      <td>0.00</td>\n",
       "      <td>1</td>\n",
       "      <td>1</td>\n",
       "      <td>1</td>\n",
       "      <td>101348.88</td>\n",
       "    </tr>\n",
       "    <tr>\n",
       "      <th>1</th>\n",
       "      <td>608</td>\n",
       "      <td>2.0</td>\n",
       "      <td>0</td>\n",
       "      <td>41</td>\n",
       "      <td>1</td>\n",
       "      <td>83807.86</td>\n",
       "      <td>1</td>\n",
       "      <td>0</td>\n",
       "      <td>1</td>\n",
       "      <td>112542.58</td>\n",
       "    </tr>\n",
       "    <tr>\n",
       "      <th>2</th>\n",
       "      <td>502</td>\n",
       "      <td>0.0</td>\n",
       "      <td>0</td>\n",
       "      <td>42</td>\n",
       "      <td>8</td>\n",
       "      <td>159660.80</td>\n",
       "      <td>3</td>\n",
       "      <td>1</td>\n",
       "      <td>0</td>\n",
       "      <td>113931.57</td>\n",
       "    </tr>\n",
       "    <tr>\n",
       "      <th>3</th>\n",
       "      <td>699</td>\n",
       "      <td>0.0</td>\n",
       "      <td>0</td>\n",
       "      <td>39</td>\n",
       "      <td>1</td>\n",
       "      <td>0.00</td>\n",
       "      <td>2</td>\n",
       "      <td>0</td>\n",
       "      <td>0</td>\n",
       "      <td>93826.63</td>\n",
       "    </tr>\n",
       "    <tr>\n",
       "      <th>4</th>\n",
       "      <td>850</td>\n",
       "      <td>2.0</td>\n",
       "      <td>0</td>\n",
       "      <td>43</td>\n",
       "      <td>2</td>\n",
       "      <td>125510.82</td>\n",
       "      <td>1</td>\n",
       "      <td>1</td>\n",
       "      <td>1</td>\n",
       "      <td>79084.10</td>\n",
       "    </tr>\n",
       "  </tbody>\n",
       "</table>\n",
       "</div>"
      ],
      "text/plain": [
       "   creditscore  geography  gender  age  tenure    balance  numofproducts  \\\n",
       "0          619        0.0       0   42       2       0.00              1   \n",
       "1          608        2.0       0   41       1   83807.86              1   \n",
       "2          502        0.0       0   42       8  159660.80              3   \n",
       "3          699        0.0       0   39       1       0.00              2   \n",
       "4          850        2.0       0   43       2  125510.82              1   \n",
       "\n",
       "   hascrcard  isactivemember  estimatedsalary  \n",
       "0          1               1        101348.88  \n",
       "1          0               1        112542.58  \n",
       "2          1               0        113931.57  \n",
       "3          0               0         93826.63  \n",
       "4          1               1         79084.10  "
      ]
     },
     "execution_count": 15,
     "metadata": {},
     "output_type": "execute_result"
    }
   ],
   "source": [
    "# verifico que la tabla de características es correcta\n",
    "features.head()"
   ]
  },
  {
   "cell_type": "code",
   "execution_count": 16,
   "metadata": {
    "scrolled": true
   },
   "outputs": [
    {
     "data": {
      "text/plain": [
       "0    1\n",
       "1    0\n",
       "2    1\n",
       "3    0\n",
       "4    0\n",
       "Name: exited, dtype: int64"
      ]
     },
     "execution_count": 16,
     "metadata": {},
     "output_type": "execute_result"
    }
   ],
   "source": [
    "# verifico que la tabla objetivo es correcta\n",
    "target.head()"
   ]
  },
  {
   "cell_type": "code",
   "execution_count": 17,
   "metadata": {},
   "outputs": [],
   "source": [
    "#uso train_test_split para dividir los datos en entrenamiento y prueba con 20%\n",
    "features_train, features_test, target_train, target_test =train_test_split(features,target,test_size=0.2,random_state=300)\n",
    "\n",
    "#uso train_test_split para dividir los datos en entrenamiento y validación con 25%\n",
    "features_train, features_valid, target_train, target_valid =train_test_split(features_train,target_train,test_size=.25,random_state=300)"
   ]
  },
  {
   "cell_type": "code",
   "execution_count": 18,
   "metadata": {},
   "outputs": [
    {
     "name": "stdout",
     "output_type": "stream",
     "text": [
      "features_train: (6000, 10)\n",
      "target_train: (6000,)\n",
      "\n",
      "features_valid (2000, 10)\n",
      "target_valid (2000,)\n",
      "\n",
      "features_test (2000, 10)\n",
      "target_test (2000,)\n"
     ]
    }
   ],
   "source": [
    "# verifico el tamaño de los segmentos de prueba\n",
    "print('features_train:', features_train.shape)\n",
    "print('target_train:', target_train.shape)\n",
    "\n",
    "print('')\n",
    "print('features_valid', features_valid.shape)\n",
    "print('target_valid', target_valid.shape)\n",
    "\n",
    "print('')\n",
    "print('features_test', features_test.shape)\n",
    "print('target_test', target_test.shape)\n"
   ]
  },
  {
   "cell_type": "markdown",
   "metadata": {},
   "source": [
    "**Observación:**\n",
    "- Los tamaños de cada segmento corresponden a **60% para entrenamiento, 20% prueba y 20% validación de la tabla original**.\n",
    "- Los segmentos de **características** tienen las columnas: creditscore, geography, gender, age, \n",
    "tenure, balance, numofproducts, hascrcard, isactivemember, estimatedsalary\n",
    "- Los segmentos de **objetivo** solo tienen la columna **exited.**"
   ]
  },
  {
   "cell_type": "markdown",
   "metadata": {},
   "source": [
    "<div class=\"alert alert-block alert-success\">\n",
    "\n",
    "<b>Comentario del revisor. (Iteración 1)</b> <a class=\"tocSkip\"></a>\n",
    "\n",
    "Una división de datos precisa, bien hecho Sebastian!</div>"
   ]
  },
  {
   "cell_type": "markdown",
   "metadata": {},
   "source": [
    "#### Escalado de características"
   ]
  },
  {
   "cell_type": "code",
   "execution_count": 19,
   "metadata": {},
   "outputs": [],
   "source": [
    "# Desactivo SettingWithCopyWarning\n",
    "pd.options.mode.chained_assignment = None\n",
    "\n",
    "# uso standardscaler para estandarizar las columnas numericas\n",
    "scaler = StandardScaler()\n",
    "numeric = ['creditscore', 'age', 'tenure', 'balance', 'estimatedsalary']\n",
    "\n",
    "# uso scaler.fit en las columnas selecionadas\n",
    "scaler.fit(features_train[numeric])\n",
    "\n",
    "#uso scaler.transform en los datos de características de los segmentos de datos\n",
    "features_train[numeric] = scaler.transform(features_train[numeric])\n",
    "features_valid[numeric] = scaler.transform(features_valid[numeric])\n",
    "features_test[numeric] = scaler.transform(features_test[numeric])"
   ]
  },
  {
   "cell_type": "code",
   "execution_count": 20,
   "metadata": {},
   "outputs": [
    {
     "data": {
      "text/html": [
       "<div>\n",
       "<style scoped>\n",
       "    .dataframe tbody tr th:only-of-type {\n",
       "        vertical-align: middle;\n",
       "    }\n",
       "\n",
       "    .dataframe tbody tr th {\n",
       "        vertical-align: top;\n",
       "    }\n",
       "\n",
       "    .dataframe thead th {\n",
       "        text-align: right;\n",
       "    }\n",
       "</style>\n",
       "<table border=\"1\" class=\"dataframe\">\n",
       "  <thead>\n",
       "    <tr style=\"text-align: right;\">\n",
       "      <th></th>\n",
       "      <th>creditscore</th>\n",
       "      <th>geography</th>\n",
       "      <th>gender</th>\n",
       "      <th>age</th>\n",
       "      <th>tenure</th>\n",
       "      <th>balance</th>\n",
       "      <th>numofproducts</th>\n",
       "      <th>hascrcard</th>\n",
       "      <th>isactivemember</th>\n",
       "      <th>estimatedsalary</th>\n",
       "    </tr>\n",
       "  </thead>\n",
       "  <tbody>\n",
       "    <tr>\n",
       "      <th>6820</th>\n",
       "      <td>-1.260191</td>\n",
       "      <td>0.0</td>\n",
       "      <td>1</td>\n",
       "      <td>-0.951485</td>\n",
       "      <td>-0.728613</td>\n",
       "      <td>0.434101</td>\n",
       "      <td>1</td>\n",
       "      <td>1</td>\n",
       "      <td>0</td>\n",
       "      <td>-0.765058</td>\n",
       "    </tr>\n",
       "    <tr>\n",
       "      <th>4793</th>\n",
       "      <td>1.413533</td>\n",
       "      <td>0.0</td>\n",
       "      <td>0</td>\n",
       "      <td>0.201520</td>\n",
       "      <td>0.357968</td>\n",
       "      <td>-1.215763</td>\n",
       "      <td>1</td>\n",
       "      <td>1</td>\n",
       "      <td>1</td>\n",
       "      <td>-1.296400</td>\n",
       "    </tr>\n",
       "    <tr>\n",
       "      <th>3688</th>\n",
       "      <td>0.292625</td>\n",
       "      <td>1.0</td>\n",
       "      <td>1</td>\n",
       "      <td>-0.374983</td>\n",
       "      <td>-1.453000</td>\n",
       "      <td>0.553807</td>\n",
       "      <td>1</td>\n",
       "      <td>1</td>\n",
       "      <td>1</td>\n",
       "      <td>1.372786</td>\n",
       "    </tr>\n",
       "  </tbody>\n",
       "</table>\n",
       "</div>"
      ],
      "text/plain": [
       "      creditscore  geography  gender       age    tenure   balance  \\\n",
       "6820    -1.260191        0.0       1 -0.951485 -0.728613  0.434101   \n",
       "4793     1.413533        0.0       0  0.201520  0.357968 -1.215763   \n",
       "3688     0.292625        1.0       1 -0.374983 -1.453000  0.553807   \n",
       "\n",
       "      numofproducts  hascrcard  isactivemember  estimatedsalary  \n",
       "6820              1          1               0        -0.765058  \n",
       "4793              1          1               1        -1.296400  \n",
       "3688              1          1               1         1.372786  "
      ]
     },
     "execution_count": 20,
     "metadata": {},
     "output_type": "execute_result"
    }
   ],
   "source": [
    "# verifico los segmentos de características luego de la estandarización\n",
    "features_train.head(3)"
   ]
  },
  {
   "cell_type": "code",
   "execution_count": 21,
   "metadata": {},
   "outputs": [
    {
     "data": {
      "text/html": [
       "<div>\n",
       "<style scoped>\n",
       "    .dataframe tbody tr th:only-of-type {\n",
       "        vertical-align: middle;\n",
       "    }\n",
       "\n",
       "    .dataframe tbody tr th {\n",
       "        vertical-align: top;\n",
       "    }\n",
       "\n",
       "    .dataframe thead th {\n",
       "        text-align: right;\n",
       "    }\n",
       "</style>\n",
       "<table border=\"1\" class=\"dataframe\">\n",
       "  <thead>\n",
       "    <tr style=\"text-align: right;\">\n",
       "      <th></th>\n",
       "      <th>creditscore</th>\n",
       "      <th>geography</th>\n",
       "      <th>gender</th>\n",
       "      <th>age</th>\n",
       "      <th>tenure</th>\n",
       "      <th>balance</th>\n",
       "      <th>numofproducts</th>\n",
       "      <th>hascrcard</th>\n",
       "      <th>isactivemember</th>\n",
       "      <th>estimatedsalary</th>\n",
       "    </tr>\n",
       "  </thead>\n",
       "  <tbody>\n",
       "    <tr>\n",
       "      <th>1372</th>\n",
       "      <td>-1.661250</td>\n",
       "      <td>0.0</td>\n",
       "      <td>1</td>\n",
       "      <td>-0.086732</td>\n",
       "      <td>1.082356</td>\n",
       "      <td>-1.215763</td>\n",
       "      <td>2</td>\n",
       "      <td>0</td>\n",
       "      <td>1</td>\n",
       "      <td>1.699614</td>\n",
       "    </tr>\n",
       "    <tr>\n",
       "      <th>588</th>\n",
       "      <td>-1.280758</td>\n",
       "      <td>0.0</td>\n",
       "      <td>1</td>\n",
       "      <td>-0.278899</td>\n",
       "      <td>-1.453000</td>\n",
       "      <td>-1.215763</td>\n",
       "      <td>1</td>\n",
       "      <td>1</td>\n",
       "      <td>0</td>\n",
       "      <td>1.065278</td>\n",
       "    </tr>\n",
       "    <tr>\n",
       "      <th>6099</th>\n",
       "      <td>-1.219057</td>\n",
       "      <td>1.0</td>\n",
       "      <td>1</td>\n",
       "      <td>1.258441</td>\n",
       "      <td>1.444549</td>\n",
       "      <td>0.995386</td>\n",
       "      <td>1</td>\n",
       "      <td>1</td>\n",
       "      <td>0</td>\n",
       "      <td>1.108889</td>\n",
       "    </tr>\n",
       "  </tbody>\n",
       "</table>\n",
       "</div>"
      ],
      "text/plain": [
       "      creditscore  geography  gender       age    tenure   balance  \\\n",
       "1372    -1.661250        0.0       1 -0.086732  1.082356 -1.215763   \n",
       "588     -1.280758        0.0       1 -0.278899 -1.453000 -1.215763   \n",
       "6099    -1.219057        1.0       1  1.258441  1.444549  0.995386   \n",
       "\n",
       "      numofproducts  hascrcard  isactivemember  estimatedsalary  \n",
       "1372              2          0               1         1.699614  \n",
       "588               1          1               0         1.065278  \n",
       "6099              1          1               0         1.108889  "
      ]
     },
     "execution_count": 21,
     "metadata": {},
     "output_type": "execute_result"
    }
   ],
   "source": [
    "features_valid.head(3)"
   ]
  },
  {
   "cell_type": "code",
   "execution_count": 22,
   "metadata": {
    "scrolled": true
   },
   "outputs": [
    {
     "data": {
      "text/html": [
       "<div>\n",
       "<style scoped>\n",
       "    .dataframe tbody tr th:only-of-type {\n",
       "        vertical-align: middle;\n",
       "    }\n",
       "\n",
       "    .dataframe tbody tr th {\n",
       "        vertical-align: top;\n",
       "    }\n",
       "\n",
       "    .dataframe thead th {\n",
       "        text-align: right;\n",
       "    }\n",
       "</style>\n",
       "<table border=\"1\" class=\"dataframe\">\n",
       "  <thead>\n",
       "    <tr style=\"text-align: right;\">\n",
       "      <th></th>\n",
       "      <th>creditscore</th>\n",
       "      <th>geography</th>\n",
       "      <th>gender</th>\n",
       "      <th>age</th>\n",
       "      <th>tenure</th>\n",
       "      <th>balance</th>\n",
       "      <th>numofproducts</th>\n",
       "      <th>hascrcard</th>\n",
       "      <th>isactivemember</th>\n",
       "      <th>estimatedsalary</th>\n",
       "    </tr>\n",
       "  </thead>\n",
       "  <tbody>\n",
       "    <tr>\n",
       "      <th>8097</th>\n",
       "      <td>-0.252403</td>\n",
       "      <td>0.0</td>\n",
       "      <td>0</td>\n",
       "      <td>1.258441</td>\n",
       "      <td>-1.815194</td>\n",
       "      <td>-1.215763</td>\n",
       "      <td>2</td>\n",
       "      <td>1</td>\n",
       "      <td>0</td>\n",
       "      <td>-1.181255</td>\n",
       "    </tr>\n",
       "    <tr>\n",
       "      <th>4543</th>\n",
       "      <td>1.444383</td>\n",
       "      <td>1.0</td>\n",
       "      <td>0</td>\n",
       "      <td>0.297603</td>\n",
       "      <td>1.806743</td>\n",
       "      <td>0.608578</td>\n",
       "      <td>2</td>\n",
       "      <td>0</td>\n",
       "      <td>1</td>\n",
       "      <td>0.702615</td>\n",
       "    </tr>\n",
       "    <tr>\n",
       "      <th>6064</th>\n",
       "      <td>1.248996</td>\n",
       "      <td>0.0</td>\n",
       "      <td>1</td>\n",
       "      <td>-1.527988</td>\n",
       "      <td>-1.090807</td>\n",
       "      <td>-1.215763</td>\n",
       "      <td>2</td>\n",
       "      <td>1</td>\n",
       "      <td>0</td>\n",
       "      <td>-1.422365</td>\n",
       "    </tr>\n",
       "  </tbody>\n",
       "</table>\n",
       "</div>"
      ],
      "text/plain": [
       "      creditscore  geography  gender       age    tenure   balance  \\\n",
       "8097    -0.252403        0.0       0  1.258441 -1.815194 -1.215763   \n",
       "4543     1.444383        1.0       0  0.297603  1.806743  0.608578   \n",
       "6064     1.248996        0.0       1 -1.527988 -1.090807 -1.215763   \n",
       "\n",
       "      numofproducts  hascrcard  isactivemember  estimatedsalary  \n",
       "8097              2          1               0        -1.181255  \n",
       "4543              2          0               1         0.702615  \n",
       "6064              2          1               0        -1.422365  "
      ]
     },
     "execution_count": 22,
     "metadata": {},
     "output_type": "execute_result"
    }
   ],
   "source": [
    "features_test.head(3)"
   ]
  },
  {
   "cell_type": "markdown",
   "metadata": {},
   "source": [
    "**Observaciones:**\n",
    "\n",
    "- Se escalaron las características numéricas para cada segmento de datos con el uso de StandardScaler()\n",
    "- Las columnas transformadas son: `creditscore`, `age`, `tenure`, `balance`, `estimatedsalary` ya que corresponden a columnas numéricas de diferentes escalas.\n"
   ]
  },
  {
   "cell_type": "markdown",
   "metadata": {},
   "source": [
    "<div class=\"alert alert-block alert-success\">\n",
    "\n",
    "<b>Comentario del revisor. (Iteración 1)</b> <a class=\"tocSkip\"></a>\n",
    "\n",
    "Impresionante Sebastián! Una implementación excelente del escalado de nuestros datos, muy bien hecho!"
   ]
  },
  {
   "cell_type": "markdown",
   "metadata": {},
   "source": [
    "###  Examina el equilibrio de clases. Entrena el modelo sin tener en cuenta el desequilibrio. Describe brevemente tus hallazgos."
   ]
  },
  {
   "cell_type": "code",
   "execution_count": 23,
   "metadata": {
    "scrolled": false
   },
   "outputs": [
    {
     "data": {
      "text/plain": [
       "<AxesSubplot:title={'center':'Clientes de Beta Bank que se están yendo'}, xlabel='Terminaciones', ylabel='Clientes'>"
      ]
     },
     "execution_count": 23,
     "metadata": {},
     "output_type": "execute_result"
    },
    {
     "data": {
      "image/png": "[encoded data removed]",
      "text/plain": [
       "<Figure size 720x360 with 1 Axes>"
      ]
     },
     "metadata": {
      "needs_background": "light"
     },
     "output_type": "display_data"
    }
   ],
   "source": [
    "# Uso pd.value_counts para analizar el desequilibrio\n",
    "balance = pd.value_counts(data['exited'])\n",
    "\n",
    "# grafico los resultados para analizar el desequilibrio\n",
    "balance.plot(kind='bar',\n",
    "            title='Clientes de Beta Bank que se están yendo',\n",
    "            xlabel= 'Terminaciones',\n",
    "            ylabel = 'Clientes',\n",
    "            figsize = (10,5),\n",
    "            color = {'#007f66'}\n",
    "            )"
   ]
  },
  {
   "cell_type": "code",
   "execution_count": 24,
   "metadata": {},
   "outputs": [
    {
     "name": "stdout",
     "output_type": "stream",
     "text": [
      "Clientes activos: 79.63%\n",
      "Terminaciones: 20.37%\n"
     ]
    }
   ],
   "source": [
    "# imprimo el porcentaje de clientes activos y terminaciones \n",
    "float_formatter = \"{:.2%}\".format\n",
    "print('Clientes activos:',float_formatter(1-(data['exited'].sum()/data['exited'].count())))\n",
    "print('Terminaciones:', float_formatter(data['exited'].sum()/data['exited'].count()))"
   ]
  },
  {
   "cell_type": "markdown",
   "metadata": {},
   "source": [
    "<div class=\"alert alert-block alert-success\">\n",
    "\n",
    "<b>Comentario del revisor. (Iteración 1)</b> <a class=\"tocSkip\"></a>\n",
    "\n",
    "Tal como se debía, hemos investigado la composición de nuestra clase a predecir para corroborar el balanceo del problema. Bien hecho Sebastián!"
   ]
  },
  {
   "cell_type": "markdown",
   "metadata": {},
   "source": [
    "#### Entrenar el modelo sin tener en cuenta el desequilibrio."
   ]
  },
  {
   "cell_type": "markdown",
   "metadata": {},
   "source": [
    "**Nota: El rango de hiperparámetros en los modelos se probó con rangos mayores durante las pruebas, por cuestiones de rendimiento se redujeron alrededor de los valores máximos obtenidos para la entrega final.**"
   ]
  },
  {
   "cell_type": "markdown",
   "metadata": {},
   "source": [
    "#### Árbol de decisión"
   ]
  },
  {
   "cell_type": "markdown",
   "metadata": {},
   "source": [
    "Se analizará el modelo árbol de decisión con la mejor combinación de  hiperparámetros, profundidad y hojas."
   ]
  },
  {
   "cell_type": "code",
   "execution_count": 25,
   "metadata": {
    "scrolled": true
   },
   "outputs": [
    {
     "name": "stdout",
     "output_type": "stream",
     "text": [
      "Hiperparámetros:\n",
      "Profundidad: 6\n",
      "Hojas: 8\n",
      "\n",
      "F1 52.34%\n",
      "AUC-ROC 83.36%\n"
     ]
    }
   ],
   "source": [
    "# Defino las variables para encontrar la mejor combinación de hiperparámetros\n",
    "\n",
    "top_result = 0                                      # mejor resultado\n",
    "top_roc = 0                                         # área ROC mejor resultado\n",
    "top_depth = 0                                       # mejor profundidad\n",
    "top_leaves = 0                                      # mejores hojas\n",
    "\n",
    "float_formatter = \"{:.2%}\".format                   # formatear los resultados en % \n",
    "\n",
    "# modelo de árbol de decisión\n",
    "\n",
    "for depth in range(4, 10):                           # creo for para la profundidad\n",
    "        for leave in range(6, 10):                   # creo for para las hojas                                               \n",
    "        \n",
    "             model = DecisionTreeClassifier(\n",
    "                    max_depth=depth,                # rango de profundidad \n",
    "                    min_samples_leaf=leave,         # hojas a probar\n",
    "                    random_state=300)               \n",
    "        \n",
    "        # entrenar al modelo con model.fit y calcular sus predicciones con datos de validación\n",
    "             model.fit(features_train, target_train)\n",
    "             predictions_valid = model.predict(features_valid)\n",
    "                \n",
    "        # Calcular F1 con target vs predicciones del modelo \n",
    "             result = f1_score(target_valid, predictions_valid)\n",
    "             \n",
    "        \n",
    "        # calcular ROC-AUC con el uso de predit_proba con los datos de validación\n",
    "             probabilities_valid = model.predict_proba(features_valid)\n",
    "             probabilities_valid = probabilities_valid[:, 1]\n",
    "     \n",
    "             auc_roc = roc_auc_score(target_valid, probabilities_valid)\n",
    "        \n",
    "            \n",
    "             if result > top_result:                   # if para el mejor resultado y parámetros \n",
    "                top_result = result\n",
    "                top_roc = auc_roc\n",
    "                top_depth = depth\n",
    "                top_leaves = leave\n",
    "                \n",
    "\n",
    "print('Hiperparámetros:') \n",
    "print('Profundidad:', top_depth)                     # imprimir mejor profundidad\n",
    "print('Hojas:', top_leaves)                          # imprimir hojas\n",
    "print('')\n",
    "\n",
    "# imprimir F1 y area con datos de validación\n",
    "print(\"F1\", float_formatter(top_result)) \n",
    "print(\"AUC-ROC\", float_formatter(top_roc)) "
   ]
  },
  {
   "cell_type": "markdown",
   "metadata": {},
   "source": [
    "<div class=\"alert alert-block alert-success\">\n",
    "\n",
    "<b>Comentario del revisor. (Iteración 1)</b> <a class=\"tocSkip\"></a>\n",
    "\n",
    "Un procedimineot completo y muy prolijo para entrenar el modelo, bien hecho nuevamente! Excelente implementación del loop para ver diferentes hiperparámetros y excelente puesta en común de los resultados."
   ]
  },
  {
   "cell_type": "markdown",
   "metadata": {},
   "source": [
    "**Observación:**\n",
    "1) Los hiperparámetros usados fueron **(max_depth = 6, min_samples_leaf = 8)** para obtener el valor F1 más alto en **los datos de validación 52.34%**\n",
    "\n",
    "2) El área bajo la Curva ROC para el arbol antes de balancear las clases es **83.36%**\n",
    "\n",
    "3) El modelo no cumple con el umbral requerido F1 (59%)"
   ]
  },
  {
   "cell_type": "markdown",
   "metadata": {},
   "source": [
    "#### Bosque Aleatorio"
   ]
  },
  {
   "cell_type": "markdown",
   "metadata": {},
   "source": [
    "Se analizará el modelo bosque aleatorio con la mejor combinación de 2 hiperparámetros, estimadores y profundidad."
   ]
  },
  {
   "cell_type": "code",
   "execution_count": 26,
   "metadata": {},
   "outputs": [
    {
     "name": "stdout",
     "output_type": "stream",
     "text": [
      "Hiperparámetros:\n",
      "Estimadores: 18\n",
      "Profundidad: 11\n",
      "\n",
      "F1: 57.19%\n",
      "AUC-ROC 84.24%\n"
     ]
    }
   ],
   "source": [
    "# Defino las variables para encontrar la mejor combinación de hiperparámetros\n",
    "\n",
    "f_top_forest_result = 0                                # mejor resultado\n",
    "f_top_roc = 0                                          # área ROC mejor resultado\n",
    "f_top_estimators = 0                                   # número de estimadores\n",
    "f_top_depth = 0                                        # mejor profundidad\n",
    "\n",
    "float_formatter = \"{:.2%}\".format                      # formatear los resultados en % \n",
    "\n",
    "# modelo de bosque aleatorio\n",
    "\n",
    "for estimator in range(10, 20):                        # creo for para los estimadores\n",
    "    for depth in range(5, 15):                         # imprimir mejor profundidad\n",
    "                \n",
    "                rfc = RandomForestClassifier(      \n",
    "                    n_estimators=estimator,            # estimadores\n",
    "                    max_depth=depth,                   # rango de profundidad 5 niveles\n",
    "                    random_state=300\n",
    "                    )\n",
    "            \n",
    "            # entrenar al modelo con model.fit y calcular sus predicciones con datos de validación\n",
    "                rfc.fit(features_train, target_train)\n",
    "                predictions_valid = rfc.predict(features_valid)\n",
    "                \n",
    "            # Calcular F1 con target vs predicciones del modelo   \n",
    "                rfc_result = f1_score(target_valid, predictions_valid)\n",
    "                #print(rfc, rfc_result)\n",
    "\n",
    "            # calcular ROC-AUC con el uso de predit_proba con los datos de validación\n",
    "                probabilities_valid = rfc.predict_proba(features_valid)\n",
    "                probabilities_valid = probabilities_valid[:, 1]\n",
    "                 \n",
    "                rfc_auc_roc = roc_auc_score(target_valid, probabilities_valid)\n",
    "\n",
    "\n",
    "                if rfc_result > f_top_forest_result:      # if para el mejor resultado \n",
    "                    f_top_forest_result = rfc_result\n",
    "                    f_top_roc = rfc_auc_roc\n",
    "                    f_top_estimators = estimator\n",
    "                    f_top_depth = depth\n",
    "\n",
    "print('Hiperparámetros:') \n",
    "print('Estimadores:', f_top_estimators)                    # imprimir mejores estimadores\n",
    "print('Profundidad:', f_top_depth)                         # imprimir mejor profundidad\n",
    "print('')\n",
    "\n",
    "# imprimir F1 y AUC roc con datos de validación\n",
    "print(\"F1:\", float_formatter(f_top_forest_result))\n",
    "print(\"AUC-ROC\", float_formatter(f_top_roc)) "
   ]
  },
  {
   "cell_type": "markdown",
   "metadata": {},
   "source": [
    "<div class=\"alert alert-block alert-success\">\n",
    "\n",
    "<b>Comentario del revisor. (Iteración 1)</b> <a class=\"tocSkip\"></a>\n",
    "\n",
    "Un modelo diferente pero el mismo procedimiento, excelente!"
   ]
  },
  {
   "cell_type": "markdown",
   "metadata": {},
   "source": [
    "**Observaciones:**\n",
    "\n",
    "1) Los hiperparámetros usados fueron **(n_estimators = 18, max_depth = 11)** para obtener el valor F1 más alto en **los datos de validación 57.19%** la mejor hasta ahora.\n",
    "\n",
    "2) El área bajo la Curva ROC para el bosque antes de balancear las clases es **84.24%, es mejor que el árbol.**\n",
    "\n",
    "3) **El modelo está muy cerca del nivel deseado de 59%**, es un buen candidato para probar luego de balancear las clases. \n"
   ]
  },
  {
   "cell_type": "markdown",
   "metadata": {},
   "source": [
    "#### Regresión logística"
   ]
  },
  {
   "cell_type": "markdown",
   "metadata": {},
   "source": [
    "Se analizará el modelo de regresión logística con la mejor combinación de 2 hiperparámetros, penalty & class weight"
   ]
  },
  {
   "cell_type": "code",
   "execution_count": 27,
   "metadata": {
    "scrolled": true
   },
   "outputs": [
    {
     "name": "stdout",
     "output_type": "stream",
     "text": [
      "Hiperparámetros:\n",
      "solver: liblinear\n",
      "penalty: l1\n",
      "class_weight: None\n",
      "\n",
      "F1 24.77%\n",
      "AUC-ROC 73.18%\n"
     ]
    }
   ],
   "source": [
    "# Defino las variables para encontrar la mejor combinación de hiperparámetros\n",
    "\n",
    "log_top_restult = 0                                     # mejor resultado\n",
    "lgc_top_roc = 0                                         # área ROC mejor resultado\n",
    "top_solver = None                                       # sera constante\n",
    "top_penalty = None                                      # mejor penalty  \n",
    "top_class_weight = 0                                    # mejor peso de clase\n",
    "\n",
    "\n",
    "solvers = ['liblinear']                                 # solver constante \n",
    "penaltys = ['l1', 'l2']                                 # probar L1 y L2\n",
    "class_weight = [None]                                   # probar none\n",
    "\n",
    "for solver in solvers:                                  \n",
    "    for penalty in penaltys:                            # creo for para penalty\n",
    "        for class_w in class_weight:                    # creo for para peso de clase\n",
    "\n",
    "            lgc = LogisticRegression(                 \n",
    "                solver= solver, \n",
    "                penalty = penalty,                      # penalty: 2 pruebas\n",
    "                class_weight = class_w,                 # peso de clase: 2 prebas\n",
    "                random_state=300)\n",
    "\n",
    "        # entrenar al modelo con model.fit y calcular sus predicciones con datos de validación\n",
    "            lgc.fit(features_train, target_train)\n",
    "            predictions_valid = lgc.predict(features_valid)\n",
    "\n",
    "        # Calcular F1 con target vs predicciones del modelo     \n",
    "            lgc_result = f1_score(target_valid, predictions_valid)\n",
    "            #print(rfc_result)\n",
    "\n",
    "        # calcular ROC-AUC con el uso de predit_proba con los datos de validación\n",
    "            probabilities_valid = lgc.predict_proba(features_valid)\n",
    "            probabilities_valid = probabilities_valid[:, 1]\n",
    "\n",
    "            lgc_auc_roc = roc_auc_score(target_valid, probabilities_valid)\n",
    "\n",
    "        if lgc_result > log_top_restult:     # if para el mejor resultado \n",
    "            log_top_restult = lgc_result\n",
    "            lgc_top_roc = lgc_auc_roc\n",
    "            top_penalty = penalty\n",
    "            top_class_weight = class_w\n",
    "\n",
    "            \n",
    "\n",
    "print('Hiperparámetros:') \n",
    "print('solver:', solver)                                # imprimir solver\n",
    "print('penalty:', top_penalty)                          # imprimir penalty\n",
    "print('class_weight:', top_class_weight)                # imprimir peso de clase\n",
    "print('')\n",
    "\n",
    "# imprimir F1 y AUC roc con datos de validación\n",
    "print(\"F1\", float_formatter(log_top_restult))\n",
    "print(\"AUC-ROC\", float_formatter(lgc_top_roc)) "
   ]
  },
  {
   "cell_type": "markdown",
   "metadata": {},
   "source": [
    "<div class=\"alert alert-block alert-success\">\n",
    "\n",
    "<b>Comentario del revisor. (Iteración 1)</b> <a class=\"tocSkip\"></a>\n",
    "\n",
    "Nuevamente un procedimiento perfecto, aquí podemos observar una baja en el rendimiento por lo que el modelo tal vez no sea el más adecuado."
   ]
  },
  {
   "cell_type": "markdown",
   "metadata": {},
   "source": [
    "**Observación:** \n",
    "\n",
    "1) Los hiperparámetros usados fueron **(solver: liblinear,penalty = l1)**, para obtener el valor F1 más alto en **los datos de validación 24.77%**\n",
    "\n",
    "2) El área bajo la Curva ROC antes de balancear las clases es 73.18%\n",
    "\n",
    "3) El modelo no cumple con el umbral requerido F1 (59%) ademas es **el valor mas bajo hasta el momento tanto en F1 y área bajo la Curva ROC**"
   ]
  },
  {
   "cell_type": "markdown",
   "metadata": {},
   "source": [
    " "
   ]
  },
  {
   "cell_type": "markdown",
   "metadata": {},
   "source": [
    "**Conclusión sección:** \n",
    "\n",
    "**Ningún modelo sin balance de clases supera el requerimiento de F1 0.59**, sin embargo **el bosque aleatorio fue el modelo con mayor valor F1: 57% y AUC-ROC: 84.24%%**, y será usado como modelo a desarrollar.\n",
    "\n"
   ]
  },
  {
   "cell_type": "markdown",
   "metadata": {},
   "source": [
    "### Mejora la calidad del modelo. \n",
    "\n",
    "Asegúrate de utilizar al menos dos enfoques para corregir el desequilibrio de clases. Utiliza conjuntos de entrenamiento y validación para encontrar el mejor modelo y el mejor conjunto de parámetros. Entrena diferentes modelos en los conjuntos de entrenamiento y validación. Encuentra el mejor. Describe brevemente tus hallazgos."
   ]
  },
  {
   "cell_type": "markdown",
   "metadata": {},
   "source": [
    "**Nota: El rango de hiperparámetros en los modelos se probó con rangos mayores durante las pruebas, por cuestiones de rendimiento se redujeron alrededor de los valores máximos obtenidos para la entrega final.**"
   ]
  },
  {
   "cell_type": "markdown",
   "metadata": {},
   "source": [
    "#### Ajuste peso de clase \n"
   ]
  },
  {
   "cell_type": "markdown",
   "metadata": {},
   "source": [
    "Se analizará el modelo bosque aleatorio con la mejor combinación de 2 hiperparámetros, estimadores,  profundidad y peso de clase."
   ]
  },
  {
   "cell_type": "code",
   "execution_count": 28,
   "metadata": {
    "scrolled": true
   },
   "outputs": [
    {
     "name": "stdout",
     "output_type": "stream",
     "text": [
      "Hiperparámetros:\n",
      "Estimadores: 22\n",
      "Profundidad: 8\n",
      "\n",
      "F1 60.78%\n",
      "AUC-ROC 84.65%\n"
     ]
    }
   ],
   "source": [
    "# Defino las variables para encontrar la mejor combinación de hiperparámetros\n",
    "\n",
    "f_top_forest_result = 0                               # mejor resultado\n",
    "f_top_roc = 0                                         # área ROC mejor resultado\n",
    "f_top_estimators = 0                                  # número de estimadores\n",
    "f_top_depth = 0                                       # mejor profundidad\n",
    "\n",
    "float_formatter = \"{:.2%}\".format                     # formatear los resultados en % \n",
    "\n",
    "# modelo de bosque aleatorio\n",
    "\n",
    "for estimator in range(20, 31):                        # creo for para los estimadores\n",
    "    for depth in range(1, 11):                         # imprimir mejor profundidad\n",
    "                \n",
    "                rfc = RandomForestClassifier(      \n",
    "                    n_estimators=estimator,           # estimadores\n",
    "                    max_depth=depth,                  # rango de profundidad 5 niveles\n",
    "                    random_state=300,\n",
    "                    class_weight = 'balanced'         #se agrego como hiperparámetro\n",
    "                    )\n",
    "                \n",
    "            # entrenar al modelo con model.fit y calcular sus predicciones con datos de validación\n",
    "                rfc.fit(features_train, target_train)\n",
    "                predictions_valid = rfc.predict(features_valid)\n",
    "                \n",
    "            # Calcular F1 con target vs predicciones del modelo   \n",
    "                rfc_result = f1_score(target_valid, predictions_valid)\n",
    "                #print(rfc, rfc_result)\n",
    "\n",
    "            # calcular ROC-AUC con el uso de predit_proba con los datos de validación\n",
    "                probabilities_valid = rfc.predict_proba(features_valid)\n",
    "                probabilities_valid = probabilities_valid[:, 1]\n",
    "                 \n",
    "                rfc_auc_roc = roc_auc_score(target_valid, probabilities_valid)\n",
    "\n",
    "\n",
    "                if rfc_result > f_top_forest_result:           # if para el mejor resultado \n",
    "                    f_top_forest_result = rfc_result\n",
    "                    f_top_roc = rfc_auc_roc\n",
    "                    f_top_estimators = estimator\n",
    "                    f_top_depth = depth\n",
    "\n",
    "print('Hiperparámetros:')   \n",
    "print('Estimadores:', f_top_estimators)               # imprimir mejores estimadores\n",
    "print('Profundidad:', f_top_depth)                    # imprimir mejor profundidad\n",
    "print('')\n",
    "\n",
    "# imprimir F1 y AUC roc con datos de validación\n",
    "print(\"F1\", float_formatter(f_top_forest_result)) \n",
    "print(\"AUC-ROC\", float_formatter(f_top_roc)) "
   ]
  },
  {
   "cell_type": "markdown",
   "metadata": {},
   "source": [
    "<div class=\"alert alert-block alert-success\">\n",
    "\n",
    "<b>Comentario del revisor. (Iteración 1)</b> <a class=\"tocSkip\"></a>\n",
    "\n",
    "Excelente, una alternativa para mejorar el rendimiento iterando posibles combinaciones de hiperparámetros!"
   ]
  },
  {
   "cell_type": "markdown",
   "metadata": {},
   "source": [
    "**Observaciones:**\n",
    "\n",
    "1) Utilizando los parámetros **(n_estimators = 22, max_depth = 8, class_weight = 'balanced')** para los **datos de validacion obtenemos un valor F1 60.78%**\n",
    "\n",
    "2) Área Bajo la Curva ROC para el arbol antes de balancear las clases es 84.65%\n",
    "\n",
    "3) Ahora este modelo **cumple con el requerimiento de 59%**, sin embargo utilizaré otros enfoques para corregir el desequilibrio y comparar los resultados"
   ]
  },
  {
   "cell_type": "markdown",
   "metadata": {},
   "source": [
    "#### Sobremuestreo"
   ]
  },
  {
   "cell_type": "markdown",
   "metadata": {},
   "source": [
    "Utilizaré el enfoque de sobremuestreo para incrementar los registros de la clase menos frecuente (exited = 1), luego entrenaremos el modelo con estos datos para intentar minimizar el desequilibrio."
   ]
  },
  {
   "cell_type": "code",
   "execution_count": 29,
   "metadata": {},
   "outputs": [],
   "source": [
    "#defino la función de sobremuestreo\n",
    "\n",
    "def upsample(features,target,repeat):\n",
    "    feature_zero = features[target == 0]         # dividir las caracteristicas para 0\n",
    "    feature_one = features[target == 1]          # dividir las caracteristicas para 1\n",
    "    target_zero = target[target == 0]            # target igual a 0    \n",
    "    target_one = target[target == 1]             # target igual a 1\n",
    "\n",
    "\n",
    "    \n",
    "    #uso pd.concat para realzar el sobre muestreo de caracetriticas y target\n",
    "    features_upsampled = pd.concat([feature_zero] + [feature_one] * repeat)\n",
    "    target_upsampled = pd.concat([target_zero] + [target_one] * repeat)\n",
    "\n",
    "    \n",
    "    # Mezclo los datos. Usando la función shuffle() \n",
    "    features_upsampled, target_upsampled = shuffle(\n",
    "        features_upsampled, target_upsampled, random_state=300)\n",
    "\n",
    "    return features_upsampled, target_upsampled\n",
    "\n",
    "\n",
    "# ejecuto la funcion para los datos de entrenamiento sobremuestreo x3\n",
    "features_upsampled, target_upsampled = upsample(\n",
    "    features_train, target_train, 3)\n"
   ]
  },
  {
   "cell_type": "markdown",
   "metadata": {},
   "source": [
    "<div class=\"alert alert-block alert-success\">\n",
    "\n",
    "<b>Comentario del revisor. (Iteración 1)</b> <a class=\"tocSkip\"></a>\n",
    "\n",
    "Tal como debíamos hemos implementado una estrategia para mitigar el desbalanceo! Bien hecho!"
   ]
  },
  {
   "cell_type": "code",
   "execution_count": 30,
   "metadata": {},
   "outputs": [
    {
     "name": "stdout",
     "output_type": "stream",
     "text": [
      "Estimadores: 21\n",
      "Profundidad: 7\n",
      "\n",
      "F1 62.84%\n",
      "AUC-ROC 85.11%\n"
     ]
    }
   ],
   "source": [
    "# Defino las variables para encontrar la mejor combinación de hiperparámetros\n",
    "\n",
    "f_top_forest_result = 0                               # mejor resultado\n",
    "f_top_roc = 0                                         # área ROC mejor resultado\n",
    "f_top_estimators = 0                                  # número de estimadores\n",
    "f_top_depth = 0                                       # mejor profundidad\n",
    "\n",
    "float_formatter = \"{:.2%}\".format                     # formatear los resultados en % \n",
    "\n",
    "# modelo de bosque aleatorio\n",
    "\n",
    "for estimator in range(20, 31):                        # creo for para los estimadores\n",
    "    for depth in range(1, 11):                         # imprimir mejor profundidad\n",
    "                \n",
    "                rfc = RandomForestClassifier(      \n",
    "                    n_estimators=estimator,           # estimadores\n",
    "                    max_depth=depth,                  # rango de profundidad 5 niveles\n",
    "                    random_state=300\n",
    "                    )\n",
    "           # entrenar al modelo con model.fit y calcular sus predicciones con datos de validación\n",
    "                rfc.fit(features_upsampled, target_upsampled)\n",
    "                predictions_valid = rfc.predict(features_valid)\n",
    "                \n",
    "            # Calcular F1   \n",
    "                rfc_result = f1_score(target_valid, predictions_valid)\n",
    "                #print(rfc, rfc_result)\n",
    "\n",
    "            # calcular ROC-AUC\n",
    "                probabilities_valid = rfc.predict_proba(features_valid)\n",
    "                probabilities_valid = probabilities_valid[:, 1]\n",
    "                 \n",
    "                rfc_auc_roc = roc_auc_score(target_valid, probabilities_valid)\n",
    "\n",
    "\n",
    "                if rfc_result > f_top_forest_result:           # if para el mejor resultado \n",
    "                    f_top_forest_result = rfc_result\n",
    "                    f_top_roc = rfc_auc_roc\n",
    "                    f_top_estimators = estimator\n",
    "                    f_top_depth = depth\n",
    "\n",
    "    \n",
    "print('Estimadores:', f_top_estimators)               # imprimir mejores estimadores\n",
    "print('Profundidad:', f_top_depth)                    # imprimir mejor profundidad\n",
    "print('')\n",
    "\n",
    "# imprimir F1 y AUC roc con datos de validación\n",
    "print(\"F1\", float_formatter(f_top_forest_result)) \n",
    "print(\"AUC-ROC\", float_formatter(f_top_roc))\n"
   ]
  },
  {
   "cell_type": "markdown",
   "metadata": {},
   "source": [
    "<div class=\"alert alert-block alert-success\">\n",
    "\n",
    "<b>Comentario del revisor. (Iteración 1)</b> <a class=\"tocSkip\"></a>\n",
    "\n",
    "Buenos rendimientos!"
   ]
  },
  {
   "cell_type": "markdown",
   "metadata": {},
   "source": [
    "**Observaciones:**\n",
    "\n",
    "1) Se realizó **sobremuestreo para los datos de entrenamiento con un multiplicador de repeat = 3**, luego de varias iteraciones noté que >3 disminuye el valor de F1. Se intento igualmente con 2, 4, y 5 pero el valor F1 disminuye.\n",
    "\n",
    "2) Utilizando los parámetros **(n_estimators = 21, max_depth = 7, class_weight = None)** para los **datos de validación obtenemos un valor F1 62.84%**\n",
    "\n",
    "3) Es el **valor F1 y AUC-ROC más alto hasta ahora**.\n",
    "\n"
   ]
  },
  {
   "cell_type": "markdown",
   "metadata": {},
   "source": [
    "#### Submuestreo"
   ]
  },
  {
   "cell_type": "markdown",
   "metadata": {},
   "source": [
    "Utilizaré el enfoque de submuestreo para disminuir los registros de la clase más frecuente (exited = 0), luego entrenaremos el modelo con estos datos para intentar minimizar el desequilibrio. "
   ]
  },
  {
   "cell_type": "code",
   "execution_count": 31,
   "metadata": {},
   "outputs": [],
   "source": [
    "#defino la funcion de submuestreo para hacer las clase mas comun menos frecuente\n",
    "\n",
    "def downsample(features, target, fraction):           \n",
    "    features_zeros = features[target == 0]              # dividir las caracteristicas para 0\n",
    "    features_ones = features[target == 1]               # dividir las caracteristicas para 1\n",
    "    target_zeros = target[target == 0]                  # target igual a 0\n",
    "    target_ones = target[target == 1]                   # target igual a 1\n",
    "\n",
    "    \n",
    "    #uso pd.concat para realzar el subestreo de caracetriticas\n",
    "    features_downsampled = pd.concat(\n",
    "        [features_zeros.sample(frac=fraction, random_state=300)] + [features_ones])\n",
    "    \n",
    "    #uso pd.concat para realzar el subestreo de target\n",
    "    target_downsampled = pd.concat(\n",
    "        [target_zeros.sample(frac=fraction, random_state=300)] + [target_ones])\n",
    "    \n",
    "    # Mezclo los datos. Usando la función shuffle() \n",
    "    features_downsampled, target_downsampled = shuffle(\n",
    "        features_downsampled, target_downsampled, random_state=300)\n",
    "    \n",
    "    return features_downsampled, target_downsampled\n",
    "\n",
    "# ejecuto la funcion para los datos de entrenamiento submuestreo x0.3\n",
    "features_downsampled, target_downsampled = downsample(\n",
    "    features_train, target_train, 0.3)\n"
   ]
  },
  {
   "cell_type": "markdown",
   "metadata": {},
   "source": [
    "<div class=\"alert alert-block alert-success\">\n",
    "\n",
    "<b>Comentario del revisor. (Iteración 1)</b> <a class=\"tocSkip\"></a>\n",
    "\n",
    "Otra alternativa, excelente!"
   ]
  },
  {
   "cell_type": "code",
   "execution_count": 32,
   "metadata": {},
   "outputs": [
    {
     "name": "stdout",
     "output_type": "stream",
     "text": [
      "Estimadores: 25\n",
      "Profundidad: 8\n",
      "\n",
      "F1 61.46%\n",
      "AUC-ROC 84.52%\n"
     ]
    }
   ],
   "source": [
    "# Defino las variables para encontrar la mejor combinación de hiperparámetros\n",
    "\n",
    "f_top_forest_result = 0                               # mejor resultado\n",
    "f_top_roc = 0\n",
    "f_top_estimators = 0                                  # número de estimadores\n",
    "f_top_depth = 0                                       # mejor profundidad\n",
    "\n",
    "float_formatter = \"{:.2%}\".format                     # formatear los resultados en % \n",
    "\n",
    "# modelo de bosque aleatorio\n",
    "\n",
    "for estimator in range(20, 31):                        # creo for para los estimadores\n",
    "    for depth in range(1, 11):                         # imprimir mejor profundidad\n",
    "                \n",
    "                rfc = RandomForestClassifier(      \n",
    "                    n_estimators=estimator,           # estimadores\n",
    "                    max_depth=depth,                  # rango de profundidad 5 niveles\n",
    "                    random_state=300\n",
    "                    )\n",
    "                \n",
    "            # entrenar al modelo con model.fit y calcular sus predicciones con datos de validación\n",
    "                rfc.fit(features_downsampled, target_downsampled)\n",
    "                predictions_valid = rfc.predict(features_valid)\n",
    "                \n",
    "            # Calcular F1   \n",
    "                rfc_result = f1_score(target_valid, predictions_valid)\n",
    "                #print(rfc_result)\n",
    "\n",
    "            # calcular ROC-AUC\n",
    "                probabilities_valid = rfc.predict_proba(features_valid)\n",
    "                probabilities_valid = probabilities_valid[:, 1]\n",
    "                 \n",
    "                rfc_auc_roc = roc_auc_score(target_valid, probabilities_valid)\n",
    "\n",
    "\n",
    "                if rfc_result > f_top_forest_result:           # if para el mejor resultado \n",
    "                    f_top_forest_result = rfc_result\n",
    "                    f_top_roc = rfc_auc_roc\n",
    "                    f_top_estimators = estimator\n",
    "                    f_top_depth = depth\n",
    "\n",
    "    \n",
    "print('Estimadores:', f_top_estimators)               # imprimir mejores estimadores\n",
    "print('Profundidad:', f_top_depth)                    # imprimir mejor profundidad\n",
    "print('')\n",
    "\n",
    "# imprimir F1 y AUC roc con datos de validación\n",
    "print(\"F1\", float_formatter(f_top_forest_result)) \n",
    "print(\"AUC-ROC\", float_formatter(f_top_roc)) "
   ]
  },
  {
   "cell_type": "markdown",
   "metadata": {},
   "source": [
    "<div class=\"alert alert-block alert-success\">\n",
    "\n",
    "<b>Comentario del revisor. (Iteración 1)</b> <a class=\"tocSkip\"></a>\n",
    "\n",
    "Nuevamente mejores resultados, excelente Sebastian!"
   ]
  },
  {
   "cell_type": "markdown",
   "metadata": {},
   "source": [
    "**Observaciones:**\n",
    "\n",
    "1) Se realizó **submuestreo para los datos de entrenamiento con fraction = 0.30** el cual reduce en una cantidad importante los datos de la clase más común, se probaron 0.1, 0.2, 0.25, 0.5 de igual manera, pero no produjeron valores mayores a sobremuestreo.\n",
    "\n",
    "2) Utilizando los parámetros **(n_estimators = 25, max_depth = 8, class_weight = None)** para los **datos de validación obtenemos un valor F1 61.46%**\n",
    "\n",
    "3) El valor de F1 y AUC-ROC mejoraron sin embargo **no superan el valor de sobremuestreo**\n",
    "\n"
   ]
  },
  {
   "cell_type": "markdown",
   "metadata": {},
   "source": [
    "### Realiza la prueba final"
   ]
  },
  {
   "cell_type": "markdown",
   "metadata": {},
   "source": [
    "Se realizará la prueba del modelo seleccionado con los mejores hiperparámetros y datos de sobremuestreo para comprobar la mejora en el valor F1."
   ]
  },
  {
   "cell_type": "code",
   "execution_count": 33,
   "metadata": {},
   "outputs": [
    {
     "name": "stdout",
     "output_type": "stream",
     "text": [
      "F1 antes de balance de clases: F1: 57.19%\n",
      "AUC-ROC antes de balance de clases: 84.24%\n",
      "\n",
      "Nuevo F1: 60.57%\n",
      "Nuevo AUC-ROC: 84.42%\n"
     ]
    }
   ],
   "source": [
    "#realizo prueba final con el mejor bosque y datos de sobremuestreo\n",
    "\n",
    "rfc_model = RandomForestClassifier(      \n",
    "            n_estimators= 21,             # estimadores = 21\n",
    "            max_depth=7,                  # rango de profundidad = 7\n",
    "            random_state=300,\n",
    "            )\n",
    "\n",
    "#entreno el modelo con datos de sobremuestreo \n",
    "rfc_model.fit(features_upsampled, target_upsampled)\n",
    "\n",
    "#realizo las predicciones de validación y prueba\n",
    "predictions_valid = rfc_model.predict(features_valid)\n",
    "predictions_test = rfc_model.predict(features_test)\n",
    "\n",
    "# Calcular F1   \n",
    "result = f1_score(target_test, predictions_test)\n",
    "\n",
    "# calcular ROC-AUC\n",
    "probabilities_test = rfc_model.predict_proba(features_test)\n",
    "probabilities_test = probabilities_test[:, 1]\n",
    "\n",
    "rfc_auc_roc = roc_auc_score(target_test, probabilities_test)\n",
    "\n",
    "print('F1 antes de balance de clases: F1: 57.19%')\n",
    "print('AUC-ROC antes de balance de clases: 84.24%')\n",
    "print('')\n",
    "print(\"Nuevo F1:\", float_formatter(result)) \n",
    "print(\"Nuevo AUC-ROC:\", float_formatter(rfc_auc_roc)) "
   ]
  },
  {
   "cell_type": "code",
   "execution_count": 34,
   "metadata": {},
   "outputs": [
    {
     "data": {
      "image/png": "[encoded data removed]",
      "text/plain": [
       "<Figure size 720x360 with 1 Axes>"
      ]
     },
     "metadata": {
      "needs_background": "light"
     },
     "output_type": "display_data"
    }
   ],
   "source": [
    "#uso roc_curve para el target de prueba y sus probabilidades \n",
    "fpr, tpr, thresholds = roc_curve(target_test, probabilities_test)\n",
    "\n",
    "#grafico area bajo la curva ROC\n",
    "plt.figure(figsize=(10, 5))\n",
    "plt.plot(fpr, tpr)\n",
    "plt.xlim([-0.05, 1.05])\n",
    "plt.ylim([-0.05, 1.05])\n",
    "plt.plot([0, 1], [0, 1], color = '#007f66')\n",
    "\n",
    "#agrego título y nombres a los ejes\n",
    "plt.title('Curva ROC')\n",
    "plt.xlabel('Falsos Positivos')\n",
    "plt.ylabel('Verdaderos positivos')\n",
    "\n",
    "plt.show()"
   ]
  },
  {
   "cell_type": "markdown",
   "metadata": {},
   "source": [
    "<div class=\"alert alert-block alert-success\">\n",
    "\n",
    "<b>Comentario del revisor. (Iteración 1)</b> <a class=\"tocSkip\"></a>\n",
    "\n",
    "Muy bien hecho Sebastian! Tal como se debía hemos realizado la prueba final con el mejor modelo sobre el conjunto test de prueba. Bien hecho!"
   ]
  },
  {
   "cell_type": "markdown",
   "metadata": {},
   "source": [
    "**Observaciones:**\n"
   ]
  },
  {
   "cell_type": "markdown",
   "metadata": {},
   "source": [
    "1) **El valor F1 60.57% con los datos de prueba cumple el requerimiento de F1> 59%**\n",
    "\n",
    "2) El valor AUC-ROC 84.42% conseguido **nos indica que nuestro modelo es significativamente mejor que un modelo aleatorio.**\n",
    "\n",
    "3) **Podemos ver por la curvatura hacia la izquierda que el modelo es mejor para maximizar el ratio de valores verdaderos positivos vs falsos positivos**"
   ]
  },
  {
   "cell_type": "code",
   "execution_count": 35,
   "metadata": {
    "scrolled": false
   },
   "outputs": [
    {
     "data": {
      "text/plain": [
       "Text(0.5, 1.0, 'Matriz de confusión mejor bosque')"
      ]
     },
     "execution_count": 35,
     "metadata": {},
     "output_type": "execute_result"
    },
    {
     "data": {
      "image/png": "[encoded data removed]",
      "text/plain": [
       "<Figure size 432x288 with 2 Axes>"
      ]
     },
     "metadata": {
      "needs_background": "light"
     },
     "output_type": "display_data"
    }
   ],
   "source": [
    "# Uso confusion matrix para analizar la exactitud de la clasificación\n",
    "# defino cm como matriz de confusión\n",
    "cm = confusion_matrix(target_test,predictions_test)\n",
    "\n",
    "# uso matrix display para graficar cm\n",
    "ConfusionMatrixDisplay(confusion_matrix=cm).plot(cmap='GnBu')\n",
    "plt.title(\"Matriz de confusión mejor bosque\")"
   ]
  },
  {
   "cell_type": "markdown",
   "metadata": {},
   "source": [
    "**Observaciones:**\n",
    "1) Podemos entender mejor nuestro valor F1 analizando la matriz de confusión:**el modelo es bueno para encontrar los verdaderos negativos y verdaderos positivos**, y tiene una proporción baja en comparación a falsos positivos y falsos negativos.\n",
    "\n",
    "2) **1390 verdaderos positivos, 265 verdaderos negativos** lo cual indica un **83% de clasificación correcta.**\n",
    "\n",
    "3) Los datos restantes **17%, fueron falsos positivos o falsos negativos.**"
   ]
  },
  {
   "cell_type": "code",
   "execution_count": 36,
   "metadata": {},
   "outputs": [
    {
     "name": "stdout",
     "output_type": "stream",
     "text": [
      "              precision    recall  f1-score   support\n",
      "\n",
      "           0       0.91      0.87      0.89      1593\n",
      "           1       0.57      0.65      0.61       407\n",
      "\n",
      "    accuracy                           0.83      2000\n",
      "   macro avg       0.74      0.76      0.75      2000\n",
      "weighted avg       0.84      0.83      0.83      2000\n",
      "\n"
     ]
    }
   ],
   "source": [
    "# uso classification report para analizar las métricas de clasificación\n",
    "print(classification_report(target_test,predictions_test))"
   ]
  },
  {
   "cell_type": "markdown",
   "metadata": {},
   "source": [
    "**Observaciones:**\n",
    "\n",
    "1) **La precisión y recall son altos para usuarios que se quedan pero más bajo para los que se van**, el bosque es bueno para determinar los usuarios que se quedan con una precisión de 91% y encuentra el 87% de los casos y también **gracias al equilibrio de clases maximizamos los valores para las terminaciones, lo cual incrementa valor F1 general.**\n",
    "\n",
    "2) **Podemos ver que el modelo es bueno para encontrar los verdaderos negativos y verdaderos positivos**, y tiene una proporción baja en comparación a falsos positivos y falsos negativos.\n",
    "\n",
    "3) **Para el mejor bosque las características más importantes son la edad y el número de productos.** Luego el balance  y si es usuario activo en menor proporción.\n",
    "\n",
    "**Resumen Métricas:**\n",
    "\n",
    "- F1: 60.57%\n",
    "- AUC-ROC: 84.42%\n",
    "- Exactitud: 83%                      \n",
    "- precision (0 = 0.91, 1 = 0.57) \n",
    "- recall(0= 0.87, 1= 0.65)\n"
   ]
  },
  {
   "cell_type": "markdown",
   "metadata": {},
   "source": [
    "<div class=\"alert alert-block alert-success\">\n",
    "\n",
    "<b>Comentario del revisor. (Iteración 1)</b> <a class=\"tocSkip\"></a>\n",
    "\n",
    "Excelente muestra de los resultados y sobretodo felicitaciones por implementar una matriz de confusión, esta es de mucha facilidad para interpretar estos tipos de resultados en estos tipos de problemas."
   ]
  },
  {
   "cell_type": "code",
   "execution_count": 37,
   "metadata": {
    "scrolled": true
   },
   "outputs": [
    {
     "data": {
      "image/png": "[encoded data removed]",
      "text/plain": [
       "<Figure size 864x288 with 1 Axes>"
      ]
     },
     "metadata": {
      "needs_background": "light"
     },
     "output_type": "display_data"
    }
   ],
   "source": [
    "# uso feature_importances para conocer las características más importantes para el modelo\n",
    "# creo un dataframe con los resultados de las características\n",
    "\n",
    "rfc_var = pd.DataFrame(rfc_model.feature_importances_, index = features_test.columns)\n",
    "rfc_var = rfc_var.sort_values(by=[0], ascending = False)\n",
    "\n",
    "# grafico los resultados de las características\n",
    "rfc_var.plot.bar(legend = None,           \n",
    "                 figsize = (12,4), \n",
    "                 rot = 25,\n",
    "                 xlabel = \"Características \",\n",
    "                 ylabel = \"%\",\n",
    "                 title = \"¿Cuáles son las características más importantes para el modelo?\",\n",
    "                 color = '#007f66'\n",
    "                 )\n",
    "plt.show()"
   ]
  },
  {
   "cell_type": "markdown",
   "metadata": {},
   "source": [
    "### Conclusiones del proyecto"
   ]
  },
  {
   "cell_type": "markdown",
   "metadata": {},
   "source": [
    "**El modelo recomendado para Beta Bank es el bosque aleatorio con los hiperparámetros y con sobremuestreo:**\n",
    "\n",
    "- n_estimators = 28\n",
    "- max_depth = 8\n",
    "- class_weight = None\n",
    "- Repeat = 3\n",
    "\n",
    "\n",
    "**1) Extracción de datos y procesamiento:**\n",
    "\n",
    "1. **Se eliminaron las columnas: rownumber, customerid y surname** para evitar que afecten la calidad del modelo.\n",
    "2. **Valores ausentes Tenure representaban el 9.9% de la muestra**, se completaron con el uso de la mediana = 5 años y se convirtió a int\n",
    "3. No hay valores duplicados\n",
    " \n",
    "**Codificación y estandarización de datos:**\n",
    "1. Se usó codificación **one-hot** para transformar la columna **genre en 0 = mujer y 1 = hombre**\n",
    "2. Se usó **codificación de etiquetas** en geography para convertir los **países en 0 = Francia, 1 = Alemania y 2 = España**\n",
    "\n",
    "\n",
    "**2) Examina el equilibrio de clases. Entrena el modelo sin tener en cuenta el desequilibrio.**\n",
    "\n",
    "Desequilibrio de clases:\n",
    "- Clientes activos: 79.63%\n",
    "- Terminaciones: 20.37%\n",
    "\n",
    "**Resultados modelos sin tener en cuenta el desequilibrio (mejor a peor)**\n",
    "\n",
    "1. **Bosque Aleatorio:** F1: 57.19% y AUC-ROC 84.24%\n",
    "2. **Árbol de decisión:** F1 52.34% y AUC-ROC 83.36%\n",
    "3. **Regresión logística:** F1 24.77% y AUC-ROC 73.18%\n",
    "\n",
    "**El mejor modelo fue el bosque aleatorio, se usará para las siguientes secciones**\n",
    "\n",
    "\n",
    "**3) Mejora la calidad del modelo (mejor a peor):**\n",
    "\n",
    "1. **Sobremuestreo:**\n",
    "Se realizó sobremuestreo para los datos de entrenamiento con un multiplicador de repeat = 3 y\n",
    "Utilizando los parámetros (n_estimators = 21, max_depth = 7, class_weight = None) para los datos de validación obtenemos un valor **F1 62.84%**\n",
    "\n",
    "2. **Submuestreo:**\n",
    "Se realizó submuestreo para los datos de entrenamiento con fraction = 0.30 y Utilizando los parámetros (n_estimators = 25, max_depth = 8, class_weight = None) para los datos de validación obtenemos un valor **F1 61.46%**\n",
    "\n",
    "3.  **Ajuste peso de clase:** \n",
    "Utilizando los parámetros (n_estimators = 22, max_depth = 8, class_weight = 'balanced') para los datos de validación obtenemos un valor **F1 60.78%**\n",
    "\n",
    "\n",
    "**El mejor valor F1 fue sobremuestreo**\n",
    "\n",
    "**4) Realiza la prueba final: F1 antes de balance de clases: F1: 57.19% -> nuevo valor F1: 60.57%**\n",
    "\n",
    "**Observaciones:**\n",
    "\n",
    "1) **La precisión y recall son altos para usuarios que se quedan y se mejoró para los que se van lo cual incrementa nuestro valor F1 general a 60.57%**\n",
    "\n",
    "2) **Podemos ver que el modelo es bueno para encontrar los verdaderos negativos y verdaderos positivos**\n",
    "\n",
    "3) **Para el mejor bosque las características más importantes son la edad y el número de productos.** Luego el balance  y si es usuario activo en menor proporción.\n",
    "\n",
    "**Resumen Métricas:**\n",
    "\n",
    "- F1: 60.57%\n",
    "- AUC-ROC: 84.42%\n",
    "- Exactitud: 83%                      \n",
    "- precision (0 = 0.91, 1 = 0.57) \n",
    "- recall(0= 0.87, 1= 0.65)\n",
    "\n"
   ]
  },
  {
   "cell_type": "markdown",
   "metadata": {},
   "source": [
    "<div class=\"alert alert-block alert-success\">\n",
    "\n",
    "<b>Comentario del revisor. (Iteración 1)</b> <a class=\"tocSkip\"></a>\n",
    "\n",
    "Quiero agradecerte Sebstian porque tu trabajo a sido espectacular, desde la implementación hasta la comprensión y muestra de resultados. Está conclusión final demuestra tu gran trabajo y tu comprensión respecto al tema. Muy bien hecho!!</div>"
   ]
  }
 ],
 "metadata": {
  "kernelspec": {
   "display_name": "Python 3 (ipykernel)",
   "language": "python",
   "name": "python3"
  },
  "language_info": {
   "codemirror_mode": {
    "name": "ipython",
    "version": 3
   },
   "file_extension": ".py",
   "mimetype": "text/x-python",
   "name": "python",
   "nbconvert_exporter": "python",
   "pygments_lexer": "ipython3",
   "version": "3.9.5"
  },
  "toc": {
   "base_numbering": 1,
   "nav_menu": {},
   "number_sections": true,
   "sideBar": true,
   "skip_h1_title": true,
   "title_cell": "Contenido:",
   "title_sidebar": "Contenido",
   "toc_cell": true,
   "toc_position": {
    "height": "calc(100% - 180px)",
    "left": "10px",
    "top": "150px",
    "width": "165px"
   },
   "toc_section_display": true,
   "toc_window_display": true
  }
 },
 "nbformat": 4,
 "nbformat_minor": 2
}
